{
 "cells": [
  {
   "cell_type": "markdown",
   "metadata": {},
   "source": [
    "# **Mathematical tools for Quantitative Finance**\n",
    "---\n",
    "<img src=\"http://www.doc.ic.ac.uk/~afd/images/logo_imperial_college_london.png\" align = \"left\" width=200>\n",
    " <br><br><br><br>\n",
    " \n",
    "- Copyright (c) Antoine Jacquier, 2020. All rights reserved\n",
    "\n",
    "- Author: Antoine Jacquier <a.jacquier@imperial.ac.uk>\n",
    "\n",
    "- Platform: Tested on Windows 10 with Python 3.7"
   ]
  },
  {
   "cell_type": "code",
   "execution_count": 5,
   "metadata": {},
   "outputs": [],
   "source": [
    "import sys\n",
    "sys.path.append(\"C:/Users/wangt/Desktop/PyCharm/venv/Lib/site-packages\")"
   ]
  },
  {
   "cell_type": "code",
   "execution_count": 6,
   "metadata": {},
   "outputs": [],
   "source": [
    "import numpy as np\n",
    "import matplotlib.pylab as plt\n",
    "plt.style.use('dark_background')\n",
    "import time\n",
    "import pandas as pd"
   ]
  },
  {
   "cell_type": "markdown",
   "metadata": {
    "slideshow": {
     "slide_type": "slide"
    }
   },
   "source": [
    "## Session Overview"
   ]
  },
  {
   "cell_type": "markdown",
   "metadata": {},
   "source": [
    "- Vectorisation of functions\n",
    "- Convolutions of functions\n",
    "- Numerical integration\n",
    "- Optimisation and root finding\n",
    "- Application to option pricing"
   ]
  },
  {
   "cell_type": "markdown",
   "metadata": {
    "slideshow": {
     "slide_type": "slide"
    }
   },
   "source": [
    "## The importance of vectorisation"
   ]
  },
  {
   "cell_type": "markdown",
   "metadata": {},
   "source": [
    "### Reminder on variable types"
   ]
  },
  {
   "cell_type": "code",
   "execution_count": 7,
   "metadata": {},
   "outputs": [],
   "source": [
    "xr = range(5)\n",
    "xl = list(xr)\n",
    "xa = np.array(xr)"
   ]
  },
  {
   "cell_type": "code",
   "execution_count": 8,
   "metadata": {},
   "outputs": [
    {
     "name": "stdout",
     "output_type": "stream",
     "text": [
      "[0 1 2 3 4]  and  [0 2 4 6 8]\n"
     ]
    }
   ],
   "source": [
    "print(xa, \" and \",  2*xa)"
   ]
  },
  {
   "cell_type": "code",
   "execution_count": 9,
   "metadata": {},
   "outputs": [
    {
     "name": "stdout",
     "output_type": "stream",
     "text": [
      "[0, 1, 2, 3, 4]  and  [0, 1, 2, 3, 4, 0, 1, 2, 3, 4]\n"
     ]
    }
   ],
   "source": [
    "print(xl, \" and \",  2*xl)"
   ]
  },
  {
   "cell_type": "code",
   "execution_count": 10,
   "metadata": {},
   "outputs": [],
   "source": [
    "# print(xr, \" and \",  2*xr)"
   ]
  },
  {
   "cell_type": "markdown",
   "metadata": {},
   "source": [
    "TAKE-HOME MESSAGE: \n",
    "- Use np.array() for computations\n",
    "- Use lists and ranges for listing or iterations"
   ]
  },
  {
   "cell_type": "markdown",
   "metadata": {
    "slideshow": {
     "slide_type": "subslide"
    }
   },
   "source": [
    "### Unary functions\n",
    "\n",
    "Consider a simple function $g(x) = \\cos(x)$, that we wish to apply to a vector $(x_i)_{i=1,\\ldots, n}$, for $n$ large.\n",
    "We can either do so by looping over all values of x, or apply the function directly to the vector $x$.\n",
    "A unary function acts on a single argument, such as np.exp(), np.cos(), np.sqrt()....\n",
    "They can however be extended to numpy arrays directly, and map the function to the array."
   ]
  },
  {
   "cell_type": "code",
   "execution_count": 11,
   "metadata": {
    "slideshow": {
     "slide_type": "fragment"
    }
   },
   "outputs": [],
   "source": [
    "def g(x):\n",
    "    return np.cos(x)"
   ]
  },
  {
   "cell_type": "code",
   "execution_count": 12,
   "metadata": {},
   "outputs": [
    {
     "data": {
      "text/html": [
       "<div>\n",
       "<style scoped>\n",
       "    .dataframe tbody tr th:only-of-type {\n",
       "        vertical-align: middle;\n",
       "    }\n",
       "\n",
       "    .dataframe tbody tr th {\n",
       "        vertical-align: top;\n",
       "    }\n",
       "\n",
       "    .dataframe thead th {\n",
       "        text-align: right;\n",
       "    }\n",
       "</style>\n",
       "<table border=\"1\" class=\"dataframe\">\n",
       "  <thead>\n",
       "    <tr style=\"text-align: right;\">\n",
       "      <th></th>\n",
       "      <th>Time (seconds)</th>\n",
       "    </tr>\n",
       "  </thead>\n",
       "  <tbody>\n",
       "    <tr>\n",
       "      <th>Loop</th>\n",
       "      <td>3.149786</td>\n",
       "    </tr>\n",
       "    <tr>\n",
       "      <th>cos</th>\n",
       "      <td>0.030207</td>\n",
       "    </tr>\n",
       "    <tr>\n",
       "      <th>g</th>\n",
       "      <td>0.032926</td>\n",
       "    </tr>\n",
       "  </tbody>\n",
       "</table>\n",
       "</div>"
      ],
      "text/plain": [
       "      Time (seconds)\n",
       "Loop        3.149786\n",
       "cos         0.030207\n",
       "g           0.032926"
      ]
     },
     "execution_count": 12,
     "metadata": {},
     "output_type": "execute_result"
    }
   ],
   "source": [
    "n = 1000000\n",
    "xx = np.random.normal(0., 1., n)\n",
    "\n",
    "## Apply the function cos() to a list\n",
    "t0 = time.time()\n",
    "yyLoop = [] ## Creates an empty list\n",
    "for x in xx:\n",
    "    yyLoop.append(g(x)) ## Adds new element to the list\n",
    "dtLoop = time.time() - t0\n",
    "\n",
    "## Apply the vectorised version of the function cos() to a list\n",
    "t0 = time.time()\n",
    "yy1 = np.cos(xx)\n",
    "dt1 = time.time() - t0\n",
    "\n",
    "## Same, but directly to the function g()\n",
    "t0 = time.time()\n",
    "yy2 = g(xx)\n",
    "dt2 = time.time() - t0\n",
    "\n",
    "df = pd.DataFrame([dtLoop, dt1, dt2], index=[\"Loop\", \"cos\", \"g\"], columns=[\"Time (seconds)\"])\n",
    "df.head()"
   ]
  },
  {
   "cell_type": "markdown",
   "metadata": {},
   "source": [
    "Note: these built-in Numpy functions can be applied to arrays of any sizes:"
   ]
  },
  {
   "cell_type": "code",
   "execution_count": 13,
   "metadata": {},
   "outputs": [
    {
     "data": {
      "text/plain": [
       "array([[[[ 0.32963635,  2.26004463,  2.4274268 ],\n",
       "         [ 0.90895819,  0.49721819,  0.89254026],\n",
       "         [ 0.46283412,  1.59864521,  1.13936448],\n",
       "         [ 0.22368471,  0.62313051,  0.32234053]],\n",
       "\n",
       "        [[ 2.31255881,  1.00851256,  0.54436414],\n",
       "         [ 0.54612628,  2.2366217 , 10.74197286],\n",
       "         [ 4.16306225,  0.23531091,  0.37168718],\n",
       "         [ 0.66060907,  6.89136457,  1.06831609]],\n",
       "\n",
       "        [[ 0.23566705,  0.60844896,  1.04140095],\n",
       "         [ 0.51981621,  7.75192637,  0.34233033],\n",
       "         [ 1.45612148,  0.36674143,  0.21521802],\n",
       "         [ 2.94125006,  0.6697889 ,  1.45230778]],\n",
       "\n",
       "        [[ 0.51444827,  0.47111972,  2.40862112],\n",
       "         [ 0.56622923,  0.52132136,  0.87392769],\n",
       "         [ 1.25782777,  4.41052729,  0.46945499],\n",
       "         [ 0.82153928,  0.32268611,  1.11690649]]],\n",
       "\n",
       "\n",
       "       [[[ 1.02616961,  0.21719513,  1.64144817],\n",
       "         [ 0.44028405,  1.67615925,  1.35222725],\n",
       "         [ 3.87596238,  0.2838921 ,  8.68874964],\n",
       "         [ 3.43214194,  1.52069922,  1.49831863]],\n",
       "\n",
       "        [[ 0.47525575,  1.02031942,  1.48608212],\n",
       "         [ 2.03897328,  1.13285929,  2.69258522],\n",
       "         [ 1.27749515,  0.25593874,  2.17380399],\n",
       "         [ 0.78545801,  1.97988876,  0.68309055]],\n",
       "\n",
       "        [[ 0.51108388,  2.19923063,  0.19261859],\n",
       "         [ 3.65489467,  1.6769689 ,  2.10527098],\n",
       "         [ 0.13628928,  0.88509391,  0.09566215],\n",
       "         [ 4.06579777,  1.92049564,  2.44430112]],\n",
       "\n",
       "        [[ 1.03538021,  0.99110238,  1.48485869],\n",
       "         [ 8.88873294,  0.51486113,  0.56233272],\n",
       "         [ 0.67623297,  0.11994648,  0.87057581],\n",
       "         [ 4.43464538,  1.18186947,  1.71179812]]]])"
      ]
     },
     "execution_count": 13,
     "metadata": {},
     "output_type": "execute_result"
    }
   ],
   "source": [
    "xxx = np.random.normal(0., 1.,  (2, 4, 4, 3))\n",
    "yyy = np.exp(xxx)\n",
    "yyy"
   ]
  },
  {
   "cell_type": "markdown",
   "metadata": {},
   "source": [
    "### Binary functions\n",
    "\n",
    "A binary function acts on two arguments, such as np.maximum(), np.multiply(), np.power(). \n",
    "Again, they are naturally extended to functions on arrays by operating component-wise."
   ]
  },
  {
   "cell_type": "code",
   "execution_count": 14,
   "metadata": {},
   "outputs": [
    {
     "name": "stdout",
     "output_type": "stream",
     "text": [
      "xx =  [-0.16965261 -0.12649683]\n",
      "yy =  [0.70387733 1.12285365]\n"
     ]
    },
    {
     "data": {
      "text/plain": [
       "array([0.53422472, 0.99635681])"
      ]
     },
     "execution_count": 14,
     "metadata": {},
     "output_type": "execute_result"
    }
   ],
   "source": [
    "xx = np.random.normal(0., 1., 2)\n",
    "yy = np.random.normal(0., 1., 2)\n",
    "print(\"xx = \", xx)\n",
    "print(\"yy = \", yy)\n",
    "\n",
    "np.add(xx,yy)"
   ]
  },
  {
   "cell_type": "code",
   "execution_count": 15,
   "metadata": {},
   "outputs": [
    {
     "name": "stdout",
     "output_type": "stream",
     "text": [
      "xx =  [[-1.05985022 -0.3194923 ]\n",
      " [-0.77034351  1.04670635]]\n",
      "yy =  [[ 0.35379666 -0.87783243]]\n",
      "max =  [[ 0.35379666 -0.3194923 ]\n",
      " [ 0.35379666  1.04670635]]\n"
     ]
    }
   ],
   "source": [
    "xx = np.random.normal(0., 1., (2,2))\n",
    "yy = np.random.normal(0., 1., (1,2))\n",
    "print(\"xx = \", xx)\n",
    "print(\"yy = \", yy)\n",
    "\n",
    "print(\"max = \", np.maximum(xx, yy))"
   ]
  },
  {
   "cell_type": "markdown",
   "metadata": {},
   "source": [
    "When the two dimensions are not identical, Numpy operates on shape-like-wise dimensions. This is called broadcasting."
   ]
  },
  {
   "cell_type": "markdown",
   "metadata": {},
   "source": [
    "### Sequential functions\n",
    "\n",
    "They apply to arrays directly, for example np.mean(), np.std(), np.sum(), np.max()."
   ]
  },
  {
   "cell_type": "code",
   "execution_count": 16,
   "metadata": {},
   "outputs": [
    {
     "name": "stdout",
     "output_type": "stream",
     "text": [
      "Sum over a one-dimensional array:  -0.6097774886673547\n",
      "Sum over a multi-dimensional-dimensional array:  -3.8377797814405428\n"
     ]
    }
   ],
   "source": [
    "xx = np.random.normal(0., 1., 10)\n",
    "print(\"Sum over a one-dimensional array: \", np.sum(xx))\n",
    "xx = np.random.normal(0., 1., (4, 6))\n",
    "print(\"Sum over a multi-dimensional-dimensional array: \", np.sum(xx))"
   ]
  },
  {
   "cell_type": "markdown",
   "metadata": {},
   "source": [
    "#### What about other Python functions???"
   ]
  },
  {
   "cell_type": "code",
   "execution_count": 17,
   "metadata": {},
   "outputs": [],
   "source": [
    "def compareRunTimes(aa):\n",
    "    mm, tt = [], []\n",
    "\n",
    "    t0 = time.time()\n",
    "    m = 0.\n",
    "    for a in aa:\n",
    "        m+=a\n",
    "    dt = time.time() - t0\n",
    "    mm.append(m)\n",
    "    tt.append(dt)\n",
    "\n",
    "    t0 = time.time()\n",
    "    m = sum(aa)\n",
    "    dt = time.time() - t0\n",
    "    mm.append(m)\n",
    "    tt.append(dt)\n",
    "\n",
    "    t0 = time.time()\n",
    "    m = np.sum(aa)\n",
    "    dt = time.time() - t0\n",
    "    mm.append(m)\n",
    "    tt.append(dt)\n",
    "    df = pd.DataFrame(list(zip(mm, tt)), index=[\"Loop\", \"Built-in\", \"Numpy\"], columns = [\"Sum\", \"Time\"])\n",
    "    return df"
   ]
  },
  {
   "cell_type": "code",
   "execution_count": 18,
   "metadata": {},
   "outputs": [],
   "source": [
    "N = 1000000"
   ]
  },
  {
   "cell_type": "code",
   "execution_count": 19,
   "metadata": {},
   "outputs": [
    {
     "name": "stdout",
     "output_type": "stream",
     "text": [
      "<class 'numpy.ndarray'>\n"
     ]
    },
    {
     "data": {
      "text/html": [
       "<div>\n",
       "<style scoped>\n",
       "    .dataframe tbody tr th:only-of-type {\n",
       "        vertical-align: middle;\n",
       "    }\n",
       "\n",
       "    .dataframe tbody tr th {\n",
       "        vertical-align: top;\n",
       "    }\n",
       "\n",
       "    .dataframe thead th {\n",
       "        text-align: right;\n",
       "    }\n",
       "</style>\n",
       "<table border=\"1\" class=\"dataframe\">\n",
       "  <thead>\n",
       "    <tr style=\"text-align: right;\">\n",
       "      <th></th>\n",
       "      <th>Sum</th>\n",
       "      <th>Time</th>\n",
       "    </tr>\n",
       "  </thead>\n",
       "  <tbody>\n",
       "    <tr>\n",
       "      <th>Loop</th>\n",
       "      <td>499655.763615</td>\n",
       "      <td>0.207477</td>\n",
       "    </tr>\n",
       "    <tr>\n",
       "      <th>Built-in</th>\n",
       "      <td>499655.763615</td>\n",
       "      <td>0.185081</td>\n",
       "    </tr>\n",
       "    <tr>\n",
       "      <th>Numpy</th>\n",
       "      <td>499655.763615</td>\n",
       "      <td>0.002993</td>\n",
       "    </tr>\n",
       "  </tbody>\n",
       "</table>\n",
       "</div>"
      ],
      "text/plain": [
       "                    Sum      Time\n",
       "Loop      499655.763615  0.207477\n",
       "Built-in  499655.763615  0.185081\n",
       "Numpy     499655.763615  0.002993"
      ]
     },
     "execution_count": 19,
     "metadata": {},
     "output_type": "execute_result"
    }
   ],
   "source": [
    "aa = np.random.rand(N) ## Creates a Numpy array of random numbers\n",
    "print(type(aa))\n",
    "df = compareRunTimes(aa)\n",
    "df.head()"
   ]
  },
  {
   "cell_type": "code",
   "execution_count": 20,
   "metadata": {},
   "outputs": [
    {
     "name": "stdout",
     "output_type": "stream",
     "text": [
      "<class 'range'>\n"
     ]
    },
    {
     "data": {
      "text/html": [
       "<div>\n",
       "<style scoped>\n",
       "    .dataframe tbody tr th:only-of-type {\n",
       "        vertical-align: middle;\n",
       "    }\n",
       "\n",
       "    .dataframe tbody tr th {\n",
       "        vertical-align: top;\n",
       "    }\n",
       "\n",
       "    .dataframe thead th {\n",
       "        text-align: right;\n",
       "    }\n",
       "</style>\n",
       "<table border=\"1\" class=\"dataframe\">\n",
       "  <thead>\n",
       "    <tr style=\"text-align: right;\">\n",
       "      <th></th>\n",
       "      <th>Sum</th>\n",
       "      <th>Time</th>\n",
       "    </tr>\n",
       "  </thead>\n",
       "  <tbody>\n",
       "    <tr>\n",
       "      <th>Loop</th>\n",
       "      <td>4.999995e+11</td>\n",
       "      <td>0.164145</td>\n",
       "    </tr>\n",
       "    <tr>\n",
       "      <th>Built-in</th>\n",
       "      <td>4.999995e+11</td>\n",
       "      <td>0.077209</td>\n",
       "    </tr>\n",
       "    <tr>\n",
       "      <th>Numpy</th>\n",
       "      <td>1.783294e+09</td>\n",
       "      <td>0.217833</td>\n",
       "    </tr>\n",
       "  </tbody>\n",
       "</table>\n",
       "</div>"
      ],
      "text/plain": [
       "                   Sum      Time\n",
       "Loop      4.999995e+11  0.164145\n",
       "Built-in  4.999995e+11  0.077209\n",
       "Numpy     1.783294e+09  0.217833"
      ]
     },
     "execution_count": 20,
     "metadata": {},
     "output_type": "execute_result"
    }
   ],
   "source": [
    "aa = range(N) ## Creates a range\n",
    "print(type(aa))\n",
    "df = compareRunTimes(aa)\n",
    "df.head()"
   ]
  },
  {
   "cell_type": "code",
   "execution_count": null,
   "metadata": {},
   "outputs": [],
   "source": [
    "aa = list(range(N)) ## Creates a  list\n",
    "print(type(aa))\n",
    "df = compareRunTimes(aa)\n",
    "df.head()"
   ]
  },
  {
   "cell_type": "markdown",
   "metadata": {},
   "source": [
    "**Note:** the same holds for *sum*, *max*, *min*, *mean*..."
   ]
  },
  {
   "cell_type": "markdown",
   "metadata": {},
   "source": [
    "###  The axis keyword\n",
    "\n",
    "It allows to apply a function to a slice of a multi-dimensional array."
   ]
  },
  {
   "cell_type": "code",
   "execution_count": 18,
   "metadata": {},
   "outputs": [
    {
     "name": "stdout",
     "output_type": "stream",
     "text": [
      "Dimensions of xx:  (4, 1000000)\n",
      "Sum =  [-1372.3304  -653.867  -1120.4569  -607.5347] --- Computation time (seconds):  0.011968374252319336\n",
      "Sum =  [-1372.3304  -653.867  -1120.4569  -607.5347] --- Computation time (seconds):  0.010971546173095703\n"
     ]
    }
   ],
   "source": [
    "xx = np.random.normal(0., 1., (4, 1000000))\n",
    "print(\"Dimensions of xx: \", xx.shape)\n",
    "\n",
    "t0 = time.time()\n",
    "xSum = []\n",
    "for i in range(xx.shape[0]):\n",
    "    xSum.append(np.sum(xx[i,:]))\n",
    "dt = time.time() - t0\n",
    "print(\"Sum = \", np.round(xSum, 4), \"--- Computation time (seconds): \", dt)\n",
    "\n",
    "t0 = time.time()\n",
    "xSum = np.sum(xx, axis=1) \n",
    "dt = time.time() - t0\n",
    "print(\"Sum = \", np.round(xSum, 4), \"--- Computation time (seconds): \", dt)"
   ]
  },
  {
   "cell_type": "markdown",
   "metadata": {},
   "source": [
    "Computation times are similar since we only loop over 4 elements. Suppose now the first dimension of xx is large:"
   ]
  },
  {
   "cell_type": "code",
   "execution_count": 19,
   "metadata": {},
   "outputs": [
    {
     "name": "stdout",
     "output_type": "stream",
     "text": [
      "Dimensions of xx:  (100000, 100)\n",
      "Computation time (seconds):  0.02194666862487793\n",
      "Computation time (seconds):  1.0877337455749512\n"
     ]
    }
   ],
   "source": [
    "xx = np.random.normal(0., 1., (100000, 100))\n",
    "print(\"Dimensions of xx: \", xx.shape)\n",
    "\n",
    "t0 = time.time()\n",
    "xSum = np.sum(xx, axis=1) \n",
    "dt = time.time() - t0\n",
    "print(\"Computation time (seconds): \", dt)\n",
    "\n",
    "## Equivalent:\n",
    "t0 = time.time()\n",
    "xSum = []\n",
    "for i in range(xx.shape[0]):\n",
    "    xSum.append(np.sum(xx[i,:]))\n",
    "dt = time.time() - t0\n",
    "print(\"Computation time (seconds): \", dt)"
   ]
  },
  {
   "cell_type": "markdown",
   "metadata": {},
   "source": [
    "### Example: Computing pairwise (Euclidean) distances\n",
    "\n",
    "Consider two two-dimensional arrays $X\\in\\mathbb{R}^{d_x, n}$ and $Y\\in\\mathbb{R}^{d_y, n}$. We wish to compute the Euclidean distance\n",
    "$$\n",
    "D(X, Y)_{j,k} := \\sqrt{\\sum_{i=0}^{n}(X_{j,i}-Y_{k,i})^2},\n",
    "$$\n",
    "considering the $j$-th row of $X$ and the $k$-th row of $Y$.\n",
    "\n",
    "The dimensions can be understood as follows for example:\n",
    "\n",
    "- dx: number of credit lines in Portfolio X\n",
    "- dy: number of credit lines in Portfolio y\n",
    "- n: number of (daily) observations for each credit line"
   ]
  },
  {
   "cell_type": "code",
   "execution_count": 20,
   "metadata": {},
   "outputs": [],
   "source": [
    "n, dx, dy = 100000, 50, 100\n",
    "X = np.random.normal(0., 1., (dx, n))\n",
    "Y = np.random.normal(0., 1., (dy, n))"
   ]
  },
  {
   "cell_type": "code",
   "execution_count": 21,
   "metadata": {},
   "outputs": [
    {
     "name": "stdout",
     "output_type": "stream",
     "text": [
      "Distance:  445.4158354976046  --- Computation time:  768.9452171325684\n",
      "Distance:  445.4158354976046  --- Computation time:  14.960765838623047\n"
     ]
    }
   ],
   "source": [
    "j, k = 1, 1\n",
    "t0 = time.time()\n",
    "dist = np.sqrt(np.sum([(x-y)**2 for (x,y) in zip(X[j,:], Y[k,:])]))\n",
    "dt = time.time() - t0\n",
    "print(\"Distance: \", dist, \" --- Computation time: \", dx*dy*dt)\n",
    "\n",
    "t0 = time.time()\n",
    "dist = np.sqrt(np.sum(((X[j]- Y[k])**2)))\n",
    "dt = time.time() - t0\n",
    "print(\"Distance: \", dist, \" --- Computation time: \", dx*dy*dt)"
   ]
  },
  {
   "cell_type": "markdown",
   "metadata": {},
   "source": [
    "### Broadcasting"
   ]
  },
  {
   "cell_type": "code",
   "execution_count": null,
   "metadata": {},
   "outputs": [
    {
     "name": "stdout",
     "output_type": "stream",
     "text": [
      "Distance:  (50, 100) 445.4158354976046  --- Computation time:  157.2683401107788\n"
     ]
    }
   ],
   "source": [
    "t0 = time.time()\n",
    "X1 = X.reshape(dx, 1, n)\n",
    "Y1 = Y.reshape(1, dy, n)\n",
    "diffs = X1 - Y1\n",
    "dists = np.sqrt(np.sum(diffs**2, axis=2))\n",
    "dt = time.time() - t0\n",
    "print(\"Distance: \", dists.shape, dists[j,k], \" --- Computation time: \", dt)\n",
    "\n",
    "t0 = time.time()\n",
    "dists = np.sqrt(np.sum((X[:, np.newaxis] - Y[np.newaxis])**2, axis=2)) ## same as the reshaping above\n",
    "dt = time.time() - t0\n",
    "print(\"Distance: \", dists[j,k], \" --- Computation time: \", dt)"
   ]
  },
  {
   "cell_type": "markdown",
   "metadata": {},
   "source": [
    "As soon as the dimension $n$ gets large, the computation time becomes too large.\n",
    "\n",
    "Optimised broadcasting:"
   ]
  },
  {
   "cell_type": "code",
   "execution_count": null,
   "metadata": {},
   "outputs": [],
   "source": [
    "t0 = time.time()\n",
    "dists = -2 * np.matmul(X, Y.T)\n",
    "dists +=  np.sum(X**2, axis=1)[:, np.newaxis]\n",
    "dists += np.sum(Y**2, axis=1)\n",
    "di = np.sqrt(dists[j,k])\n",
    "dt = time.time() - t0\n",
    "print(\"Distance: \", di, \" --- Computation time: \", dt)"
   ]
  },
  {
   "cell_type": "markdown",
   "metadata": {},
   "source": [
    "### What about more involved functions?"
   ]
  },
  {
   "cell_type": "code",
   "execution_count": null,
   "metadata": {},
   "outputs": [],
   "source": [
    "def f(x):\n",
    "    if x < 0:\n",
    "        return np.cos(x)\n",
    "    else:\n",
    "        return np.exp(-x)"
   ]
  },
  {
   "cell_type": "code",
   "execution_count": null,
   "metadata": {},
   "outputs": [],
   "source": [
    "f(xx)"
   ]
  },
  {
   "cell_type": "code",
   "execution_count": null,
   "metadata": {},
   "outputs": [],
   "source": [
    "fVec = np.vectorize(f)\n",
    "N = 1000000\n",
    "xx = np.random.normal(0., 1., N)\n",
    "\n",
    "t0 = time.time()\n",
    "yyLoop = []\n",
    "for x in xx:\n",
    "    yyLoop.append(f(x))\n",
    "dtLoop = time.time() - t0\n",
    "\n",
    "t0 = time.time()\n",
    "yyv = fVec(xx)\n",
    "dtv = time.time() - t0\n",
    "\n",
    "t0 = time.time()\n",
    "yyv2 = [f(x) for x in xx]\n",
    "dtv2 = time.time() - t0\n",
    "\n",
    "df = pd.DataFrame([dtLoop, dtv, dtv2], index=[\"Loop\", \"Vec\", \"Iter\"], columns=[\"Time (seconds)\"])\n",
    "df.head()"
   ]
  },
  {
   "cell_type": "markdown",
   "metadata": {},
   "source": [
    "Note: The vectorize function is provided primarily for convenience, not for performance. The implementation is essentially a for loop."
   ]
  },
  {
   "cell_type": "markdown",
   "metadata": {},
   "source": [
    "### Convolutions"
   ]
  },
  {
   "cell_type": "code",
   "execution_count": null,
   "metadata": {},
   "outputs": [],
   "source": [
    "def newFunc(g, x):\n",
    "    return g(x) ** 2"
   ]
  },
  {
   "cell_type": "code",
   "execution_count": null,
   "metadata": {},
   "outputs": [],
   "source": [
    "print(\"Calling a numpy function: \", newFunc(np.cos, 2))\n",
    "print(\"Calling a function defined previously: \", newFunc(f, 2))"
   ]
  },
  {
   "cell_type": "markdown",
   "metadata": {},
   "source": [
    "## Numerical integration"
   ]
  },
  {
   "cell_type": "code",
   "execution_count": null,
   "metadata": {},
   "outputs": [],
   "source": [
    "from scipy.integrate import quad, simps\n",
    "import matplotlib.pylab as plt\n",
    "import numpy as np"
   ]
  },
  {
   "cell_type": "code",
   "execution_count": null,
   "metadata": {},
   "outputs": [],
   "source": [
    "def f(x, sig):\n",
    "    return np.exp(-x*x / (2.*sig*sig)) / (sig*np.sqrt(2.*np.pi))"
   ]
  },
  {
   "cell_type": "markdown",
   "metadata": {},
   "source": [
    "We wish to integrate both functions on the interval [1, 5]. First Step: always plot the functions to be studied."
   ]
  },
  {
   "cell_type": "code",
   "execution_count": null,
   "metadata": {},
   "outputs": [],
   "source": [
    "xMin, xMax = -5., 5.\n",
    "sigma = [1., 2., 3.]\n",
    "xx = np.linspace(xMin, xMax, 100)\n",
    "plt.figure(figsize=(10,4))\n",
    "ff = []\n",
    "for s in sigma:\n",
    "    ff.append([f(x,s) for x in xx])\n",
    "    plt.plot(xx, ff[-1], label='$\\sigma=$ %.1f' %s)\n",
    "plt.title(\"Gaussian densities\")\n",
    "plt.legend(loc='best')\n",
    "plt.show()"
   ]
  },
  {
   "cell_type": "markdown",
   "metadata": {},
   "source": [
    "Numerical integration documentation: \n",
    "- Simpson's rule: https://docs.scipy.org/doc/scipy/reference/generated/scipy.integrate.simps.html\n",
    "- Adaptive quadrature: https://docs.scipy.org/doc/scipy/reference/generated/scipy.integrate.quad.html"
   ]
  },
  {
   "cell_type": "code",
   "execution_count": null,
   "metadata": {},
   "outputs": [],
   "source": [
    "print('Numerical integration for f:')\n",
    "for i in range(len(sigma)):\n",
    "    print('sigma=', sigma[i])\n",
    "    qf = quad(f, xMin, xMax, args=(sigma[i],))\n",
    "    qs = simps(ff[i], xx)\n",
    "    print(\"Quadrature: \", qf)\n",
    "    print(\"Simpson: \", qs)\n",
    "    print(\"***************************\")"
   ]
  },
  {
   "cell_type": "markdown",
   "metadata": {},
   "source": [
    "## Optimisation and root-finding"
   ]
  },
  {
   "cell_type": "markdown",
   "metadata": {},
   "source": [
    "We investigate some of the importants routines within the scipy.optimize package https://docs.scipy.org/doc/scipy/reference/optimize.html"
   ]
  },
  {
   "cell_type": "markdown",
   "metadata": {},
   "source": [
    "### Root finding"
   ]
  },
  {
   "cell_type": "markdown",
   "metadata": {},
   "source": [
    "We are interested in finding the (unique?) solution to the equation\n",
    "\\begin{equation*}\n",
    "f(x) = 0,\n",
    "\\end{equation*}\n",
    "over some given interval.\n"
   ]
  },
  {
   "cell_type": "code",
   "execution_count": null,
   "metadata": {},
   "outputs": [],
   "source": [
    "from scipy.optimize import fsolve, root, minimize\n",
    "\n",
    "def f(x):\n",
    "    return x*x-1.\n",
    "    \n",
    "fsolve(f, x0=1.)"
   ]
  },
  {
   "cell_type": "markdown",
   "metadata": {},
   "source": [
    "Note that this is a local solver, that needs a starting estimate. It also works in the multidimensional setting:"
   ]
  },
  {
   "cell_type": "code",
   "execution_count": null,
   "metadata": {},
   "outputs": [],
   "source": [
    "def f(x):\n",
    "    return [x[0]**2+x[1]**2-1., x[0]-x[1]]\n",
    "\n",
    "x0 = [.2, .4]\n",
    "aa = np.linspace(-1.,1.,1000)\n",
    "cirP = np.sqrt(1.-aa**2)\n",
    "cirM = -np.sqrt(1.-aa**2)\n",
    "lin = [a for a in aa]\n",
    "\n",
    "plt.figure(figsize=(5,5))\n",
    "plt.plot(aa,cirP, 'b')\n",
    "plt.plot(aa,cirM, 'b')\n",
    "plt.plot(aa,lin,'r')\n",
    "plt.show()"
   ]
  },
  {
   "cell_type": "code",
   "execution_count": null,
   "metadata": {},
   "outputs": [],
   "source": [
    "print(fsolve(f, x0))"
   ]
  },
  {
   "cell_type": "code",
   "execution_count": null,
   "metadata": {},
   "outputs": [],
   "source": [
    "print(root(f, x0))"
   ]
  },
  {
   "cell_type": "markdown",
   "metadata": {},
   "source": [
    "### Optimisation"
   ]
  },
  {
   "cell_type": "markdown",
   "metadata": {},
   "source": [
    "**Remark:** Root-finding problems can be recast as minimisation problem. For example, solving $f(x) = c$ can be tackled as\n",
    "\\begin{equation*}\n",
    "\\min_{x} \\left[f(x)-c\\right]^2.\n",
    "\\end{equation*}"
   ]
  },
  {
   "cell_type": "markdown",
   "metadata": {},
   "source": [
    "When solving an optimisation problem of the form $\\min_{x}g(x)$, we first need to consider the following question:\n",
    "- Is the objective function $g$ convex?\n",
    "- Is the objective function $g$ smooth, i.e. is its gradient defined everywhere?\n",
    "- Are there constraints?"
   ]
  },
  {
   "cell_type": "markdown",
   "metadata": {},
   "source": [
    "#### One-dimensional optimisation"
   ]
  },
  {
   "cell_type": "code",
   "execution_count": null,
   "metadata": {},
   "outputs": [],
   "source": [
    "from scipy.optimize import minimize_scalar\n",
    "def f(x):\n",
    "    return x*x-1.\n",
    "def f2(x):\n",
    "    return f(x)**2\n",
    "result = minimize_scalar(f2)\n",
    "print(result)\n",
    "print(\"*******************\")\n",
    "result2 = minimize_scalar(f2, bounds=(-4., 0.), method='bounded')\n",
    "print(result2)"
   ]
  },
  {
   "cell_type": "markdown",
   "metadata": {},
   "source": [
    "## Pricing Options in the Black-Scholes model"
   ]
  },
  {
   "cell_type": "markdown",
   "metadata": {},
   "source": [
    "### Option Pricing"
   ]
  },
  {
   "cell_type": "markdown",
   "metadata": {},
   "source": [
    "A European Call option on some stock $(S_t)_{t\\geq 0}$ gives the holder the right (but not the obligation) to exchange the stock at a future time $T$ for a given price $K$.\n",
    "The initial value of such an option is therefore (by no-arbitrage arguments):\n",
    "\\begin{equation*}\n",
    "C(S_0, K, T) = \\mathbb{E}\\left[\\max(S_T-K, 0)\\right] = \n",
    "(S_{T}-K)\\mathbb{1}_{S_T\\geq K} + 0\\mathbb{1}_{S_T< K}.\n",
    "\\end{equation*}\n",
    "*Note: We consider no interest rate nor dividends here*."
   ]
  },
  {
   "cell_type": "markdown",
   "metadata": {},
   "source": [
    "### A quick and dirty introduction to Black-Scholes"
   ]
  },
  {
   "cell_type": "markdown",
   "metadata": {},
   "source": [
    "The Black–Scholes model is one of the cornerstones of mathematical finance.\n",
    "It assumes that the underlying stock price has the following dynamics:\n",
    "$$\n",
    "S_t\n",
    " = S_0\\exp\\left\\{-\\frac{\\sigma^2 t}{2} + \\sigma W_t\\right\\}\n",
    " = S_0\\exp\\left\\{-\\frac{\\sigma^2 t}{2} + \\sigma\\widetilde{n}\\sqrt{t}\\right\\} \\text{ (in distribution)},\n",
    "$$\n",
    "for each $t\\geq 0$, for some constant $\\sigma>0$, and where $\\widetilde{n}$ is a standard Gaussian random variable.\n",
    "Here $(W_t)_{t\\geq 0}$ is a standard Brownian motion, and satisfies:\n",
    "- $W_0 = 0$ almost surely;\n",
    "- for any $0\\leq s \\leq t$, $W_t - W_s$ is a Gausssian random variable with mean zero and variance $t-s$;\n",
    "- non-overlapping increments are independent.\n",
    "\n",
    "The value of a European Call option on $(S_t)_{t\\geq 0}$ in the Black-Scholes model is given, at time $t\\in [0,T]$, by\n",
    "$$\n",
    "C^{\\mathrm{BS}}(S_t, t, K, T:\\sigma) := \\mathbb{E}\\left[\\max(S_{T} - K, 0)\\right]\n",
    " = S_t\\left(\\mathcal{N}(d_{+}) - \\mathrm{e}^{k}\\mathcal{N}(d_{-})\\right),\n",
    "$$\n",
    "where\n",
    "$$\n",
    "d_{\\pm} = \\frac{-k}{\\sigma\\sqrt{T - t}} \\pm\\frac{\\sigma\\sqrt{T-t}}{2}\n",
    "$$\n",
    "and\n",
    "- $k := \\log\\left(K / S_t\\right)$ is called the log moneyness;\n",
    "- $\\mathcal{N}(\\cdot)$ is the cumulative distribution function of the standard normal distribution,\n",
    "- $T - t$ is the time to maturity;\n",
    "- $S_t$ is the spot price of the underlying asset;\n",
    "- $K$ is the strike price;\n",
    "- $\\sigma$ is the volatility  of returns of the underlying asset.\n"
   ]
  },
  {
   "cell_type": "markdown",
   "metadata": {},
   "source": [
    "### Pricing via the closed-form formula"
   ]
  },
  {
   "cell_type": "code",
   "execution_count": null,
   "metadata": {},
   "outputs": [],
   "source": [
    "from scipy.stats import norm\n",
    "\n",
    "def BSCall(S0, K, sigma, t, T):\n",
    "    '''\n",
    "    #Inputs:\n",
    "    S0: initial stock price\n",
    "    K: strike\n",
    "    sigma: instantaneous volatility\n",
    "    T: time to maturity\n",
    "    #Output:\n",
    "    Black-Scholes Call price\n",
    "    '''\n",
    "    tau = T - t\n",
    "    sigmtau = sigma*np.sqrt(tau)\n",
    "    k = np.log(K/S0)\n",
    "    dp = -k / sigmtau + 0.5*sigmtau\n",
    "    dm = dp - sigmtau\n",
    "    return S0*(norm.cdf(dp) - np.exp(k)*norm.cdf(dm))"
   ]
  },
  {
   "cell_type": "code",
   "execution_count": null,
   "metadata": {},
   "outputs": [],
   "source": [
    "S0, K, sigma, t, T = 100., 100., 0.2, 0., 1.\n",
    "print(\"Black-Scholes Call option price:\", BSCall(S0,K,sigma,t,T))"
   ]
  },
  {
   "cell_type": "code",
   "execution_count": null,
   "metadata": {},
   "outputs": [],
   "source": [
    "TT = np.linspace(0.1,3.,5)\n",
    "strikes = np.linspace(70., 150, 50)\n",
    "plt.figure(figsize=(10, 4))\n",
    "\n",
    "for T in TT:\n",
    "    plt.plot(strikes, [BSCall(S0,K,sigma,t,T) for K in strikes], label='T = %.2f' %T)\n",
    "\n",
    "plt.legend(loc='upper center', bbox_to_anchor=(1.1, 0.55),fancybox=True, shadow=True, ncol=1)\n",
    "plt.title('Black-Scholes Call Option prices for different maturities',y=1.05,fontsize=12)\n",
    "plt.xlabel('Strike')\n",
    "plt.ylabel('Price')\n",
    "plt.show()"
   ]
  },
  {
   "cell_type": "markdown",
   "metadata": {},
   "source": [
    "*Note:  one could also vectorise the Black-Scholes function first.*"
   ]
  },
  {
   "cell_type": "markdown",
   "metadata": {},
   "source": [
    "### Pricing by integration"
   ]
  },
  {
   "cell_type": "markdown",
   "metadata": {},
   "source": [
    "Recall that under the Black-Scholes model, the stock price satisfies at maturity $T$,\n",
    "\\begin{equation*}\n",
    "S_T\n",
    " = S_0\\exp\\left\\{-\\frac{\\sigma^2 T}{2} + \\sigma\\widetilde{n}\\sqrt{T}\\right\\},\n",
    "\\end{equation*}\n",
    "where $\\widetilde{n}$ is a Gaussian random variable. Therefore, for any function $f:\\mathbb{R}_+\\to\\mathbb{R}$, we can write\n",
    "\\begin{equation*}\n",
    "\\mathbb{E}\\left[f(S_T)\\right] = \n",
    "\\mathbb{E}\\left[f\\left(S_0\\exp\\left\\{-\\frac{\\sigma^2 T}{2} + \\sigma\\widetilde{n}\\sqrt{T}\\right\\}\\right)\\right] =\n",
    "\\int_{\\mathbb{R}}f\\left(S_0\\exp\\left\\{-\\frac{\\sigma^2 T}{2} + \\sigma x\\sqrt{T}\\right\\}\\right)\\phi(x) \\mathrm{d} x,\n",
    "\\end{equation*}\n",
    "where\n",
    "\\begin{equation*}\n",
    "\\phi(x) := \\frac{1}{\\sqrt{2\\pi}}\\exp\\left\\{-\\frac{x^2}{2}\\right\\}\n",
    "\\end{equation*}\n",
    "is the Gaussian density."
   ]
  },
  {
   "cell_type": "markdown",
   "metadata": {},
   "source": [
    "**Exercise:** Check the Black-Scholes price by integration. Hints / advice:\n",
    "- Plot the integrand as a function of $x$ to determine how to truncate the real line (integration domain);\n",
    "- Use different numerical integration packages."
   ]
  },
  {
   "cell_type": "markdown",
   "metadata": {},
   "source": [
    "### Pricing by simulation"
   ]
  },
  {
   "cell_type": "markdown",
   "metadata": {},
   "source": [
    "#### SImulating Brownian motion"
   ]
  },
  {
   "cell_type": "markdown",
   "metadata": {},
   "source": [
    "A Brownian motion $(W_t)_{t\\geq 0}$ has the following properties:\n",
    "\\begin{itemize}\n",
    "\\item(i) $W_0 = 0$;\n",
    "\\item(ii) For any $t \\geq 0$, $\\delta \\in (0,t)$, $W_{t+\\delta} - W_{t}$ is distributed as a Gaussian with mean zero and variance $\\delta$;\n",
    "\\item(iii) For any $0\\leq s < t \\leq u < v$, \n",
    "the increments $(W_v - W_u)$ and $(W_t-W_s)$ are independent.\n",
    "\\end{itemize}\n",
    "Therefore, on the interval $[0,T]$, create a partition $0=t_0< \\cdots < t_i < t_{i+1}<\\cdots<t_n=T$, so that\n",
    "$$\n",
    "W_T = W_{t_n} = \\left(W_{t_n} - W_{t_{n-1}}\\right) + \\cdots + \\left(W_{t_1} - W_{t_{0}}\\right).\n",
    "$$\n",
    "Using Property (ii) above, this is equal in distribution to\n",
    "$$\n",
    "W_T = W_{t_n} = \\sqrt{t_n-t_{n-1}}\\ \\widetilde{N}_{n-1} + \\cdots +\\sqrt{t_{1}-t_{0}}\\ \\widetilde{N}_{0},\n",
    "$$\n",
    "where the sequence $(\\widetilde{N}_{i})_{i}$ is iid centered Gaussian with unit variance.\n"
   ]
  },
  {
   "cell_type": "code",
   "execution_count": null,
   "metadata": {},
   "outputs": [],
   "source": [
    "T, n, nbPaths = 1., 1000, 50\n",
    "tt = np.linspace(0., T, n) ## Equidistant discretisation grid\n",
    "dt = tt[1] - tt[0]"
   ]
  },
  {
   "cell_type": "code",
   "execution_count": null,
   "metadata": {},
   "outputs": [],
   "source": [
    "t0 = time.time()\n",
    "ww = np.zeros((n, nbPaths)) ## The Brownian motion starts at zero\n",
    "N = np.random.normal(0.,1., (nbPaths, n-1))\n",
    "for path in range(nbPaths):\n",
    "    for (i,t) in enumerate(tt[:-1]):\n",
    "        #ww[i+1,path] = ww[i,path] + np.sqrt(dt) * np.random.normal(0.,1.)\n",
    "        ww[i+1,path] = ww[i,path] + np.sqrt(dt) * N[path,i]\n",
    "t1 = time.time()-t0\n",
    "print(\"Computation time: \", t1, \" seconds\")\n",
    "\n",
    "plt.figure(figsize=(10,4))\n",
    "for path in range(nbPaths):\n",
    "    plt.plot(tt, ww[:, path])\n",
    "plt.title(\"Simulated paths of a Brownian motion\")\n",
    "plt.show()"
   ]
  },
  {
   "cell_type": "markdown",
   "metadata": {},
   "source": [
    "#### Using numpy vectorisation"
   ]
  },
  {
   "cell_type": "code",
   "execution_count": null,
   "metadata": {},
   "outputs": [],
   "source": [
    "t0 = time.time()\n",
    "nn = np.random.normal(0., 1., (n-1, nbPaths)) * np.sqrt(dt)\n",
    "ww = np.zeros((n, nbPaths))\n",
    "ww[1:,:] = np.cumsum(nn, axis=0)\n",
    "t1 = time.time()-t0\n",
    "print(\"Computation time: \", t1, \" seconds\")\n",
    "plt.figure(figsize=(10,4))\n",
    "for path in range(nbPaths):\n",
    "    plt.plot(tt, ww[:, path])\n",
    "plt.title(\"Simulated paths of a Brownian motion\")\n",
    "plt.show()"
   ]
  },
  {
   "cell_type": "markdown",
   "metadata": {},
   "source": [
    "### Computing the implied volatility"
   ]
  },
  {
   "cell_type": "markdown",
   "metadata": {},
   "source": [
    "Given a strike $K$, a maturity $T$ and an underlying stock $S$, we can observe the European Call price $C^{\\mathrm{observed}}(S_0, K, T)$.\n",
    "The **implied volatility** is defined as the unique non-negative number $\\sigma$ solution to the equation\n",
    "\\begin{equation*}\n",
    "C^{\\mathrm{observed}}(S_0, K, T) = C^{\\mathrm{BS}}(S_0, K, T; \\sigma).\n",
    "\\end{equation*}\n",
    "The implied volatility is a kew concept in trading, and options are usually quoted in terms of their implied volatilities rather than in option prices."
   ]
  },
  {
   "cell_type": "markdown",
   "metadata": {},
   "source": [
    "## Potentially useful packages"
   ]
  },
  {
   "cell_type": "markdown",
   "metadata": {},
   "source": [
    "List of useful (at least for reference) Python libraries for Finance:\n",
    "- zipline: ties the statistics, the data structures, and the data sources all together using quandl data.\n",
    "- pyfolio: generate tearsheets containing performance statistics for strategies developed in zipline.\n",
    "- quantlib: extensive library for quantitative finance (pricing, calibration, Monte Carlo, yield curves, market conventions....)\n",
    "- scikit-learn: machine learning package\n",
    "- Exhaustive list of Finance-related libraries (not all useful or efficient): https://github.com/wilsonfreitas/awesome-quant"
   ]
  }
 ],
 "metadata": {
  "kernelspec": {
   "display_name": "Python 3 (ipykernel)",
   "language": "python",
   "name": "python3"
  },
  "language_info": {
   "codemirror_mode": {
    "name": "ipython",
    "version": 3
   },
   "file_extension": ".py",
   "mimetype": "text/x-python",
   "name": "python",
   "nbconvert_exporter": "python",
   "pygments_lexer": "ipython3",
   "version": "3.9.5"
  },
  "latex_envs": {
   "LaTeX_envs_menu_present": true,
   "autoclose": false,
   "autocomplete": true,
   "bibliofile": "biblio.bib",
   "cite_by": "apalike",
   "current_citInitial": 1,
   "eqLabelWithNumbers": true,
   "eqNumInitial": 1,
   "hotkeys": {
    "equation": "Ctrl-E",
    "itemize": "Ctrl-I"
   },
   "labels_anchors": false,
   "latex_user_defs": false,
   "report_style_numbering": false,
   "user_envs_cfg": false
  },
  "toc": {
   "base_numbering": 1,
   "nav_menu": {},
   "number_sections": true,
   "sideBar": true,
   "skip_h1_title": true,
   "title_cell": "Table of Contents",
   "title_sidebar": "Contents",
   "toc_cell": false,
   "toc_position": {},
   "toc_section_display": true,
   "toc_window_display": true
  }
 },
 "nbformat": 4,
 "nbformat_minor": 4
}