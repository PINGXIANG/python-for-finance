{
 "cells": [
  {
   "cell_type": "markdown",
   "metadata": {},
   "source": [
    "# **An introduction to Functional Programming**\n",
    "---\n",
    "<img src=\"http://www.doc.ic.ac.uk/~afd/images/logo_imperial_college_london.png\" align = \"left\" width=200>\n",
    " <br><br><br><br>\n",
    " \n",
    "- Copyright (c) Antoine Jacquier, 2020. All rights reserved\n",
    "\n",
    "- Author: Antoine Jacquier <a.jacquier@imperial.ac.uk>\n",
    "\n",
    "- Platform: Tested on Windows 10 with Python 3.7"
   ]
  },
  {
   "cell_type": "code",
   "execution_count": 91,
   "metadata": {},
   "outputs": [],
   "source": [
    "import numpy as np\n",
    "import matplotlib.pylab as plt\n",
    "# plt.style.use('dark_background')\n",
    "from PIL import Image\n",
    "import matplotlib.pyplot as plt"
   ]
  },
  {
   "cell_type": "markdown",
   "metadata": {},
   "source": [
    "Imperative Programming is \"traditional programming\", that is the style of programming used in C, C++, Java, C#...\n",
    "There, the programmer tells the computer what to do, and the structure is dictated by control statements, looping constructs and assignments. Functional Programming however, aims to describe the solution of the program, rather than the way it should be done.\n",
    "\n",
    "FP is also easier to debug, as each function can be thought as an independent debug unit."
   ]
  },
  {
   "cell_type": "code",
   "execution_count": 10,
   "metadata": {},
   "outputs": [
    {
     "data": {
      "text/plain": [
       "<Figure size 1152x576 with 0 Axes>"
      ]
     },
     "metadata": {},
     "output_type": "display_data"
    },
    {
     "name": "stdout",
     "output_type": "stream",
     "text": [
      "Source: , https://en.wikipedia.org/wiki/Programming_paradigm\n"
     ]
    }
   ],
   "source": [
    "# img = Image.open(r\"ProgrammingParadigms.png\")  \n",
    "plt.figure(figsize=(16, 8))\n",
    "# plt.imshow(img)\n",
    "plt.show()\n",
    "print(\"Source: , https://en.wikipedia.org/wiki/Programming_paradigm\")"
   ]
  },
  {
   "cell_type": "markdown",
   "metadata": {},
   "source": [
    "# Introduction: Characterisation of Python functions"
   ]
  },
  {
   "cell_type": "markdown",
   "metadata": {},
   "source": [
    "## Referentially Transparency"
   ]
  },
  {
   "cell_type": "markdown",
   "metadata": {},
   "source": [
    "An operation is said to be Referentially Transparent (RT) if it can be replaced with its\n",
    "corresponding value, without changing the program's behaviour, for a given set of\n",
    "parameters. The function `incrementRT` below is RT as it always returns the same values for the same input:"
   ]
  },
  {
   "cell_type": "code",
   "execution_count": 5,
   "metadata": {},
   "outputs": [
    {
     "name": "stdout",
     "output_type": "stream",
     "text": [
      "Output:  6\n",
      "Output:  6\n"
     ]
    }
   ],
   "source": [
    "def incrementRT(num):\n",
    "    return num + 1\n",
    "print(\"Output: \", incrementRT(5))\n",
    "print(\"Output: \", incrementRT(5))"
   ]
  },
  {
   "cell_type": "markdown",
   "metadata": {},
   "source": [
    "The following function, `incrementNotRT`, however, is not, as the output changes because of the global variable:"
   ]
  },
  {
   "cell_type": "code",
   "execution_count": 6,
   "metadata": {},
   "outputs": [
    {
     "name": "stdout",
     "output_type": "stream",
     "text": [
      "Output:  6\n",
      "Output:  7\n"
     ]
    }
   ],
   "source": [
    "amount = 1\n",
    "def incrementNotRT(num):\n",
    "    return num + amount\n",
    "\n",
    "print(\"Output: \", incrementNotRT(5))\n",
    "amount = 2\n",
    "print(\"Output: \", incrementNotRT(5))"
   ]
  },
  {
   "cell_type": "markdown",
   "metadata": {},
   "source": [
    "A function that returns the current time is clearly not Referentially Transparent."
   ]
  },
  {
   "cell_type": "markdown",
   "metadata": {},
   "source": [
    "### Side effects"
   ]
  },
  {
   "cell_type": "markdown",
   "metadata": {},
   "source": [
    "A function should not have any side effects, i.e. should  base its operations purely on the values it receives and its only impact should be the result returned. Any hidden side effects make software harder to maintain. Many functions, however, do have side effects, for example when it updates a database.\n",
    "We call a function **PURE** if it does not have side effects."
   ]
  },
  {
   "cell_type": "markdown",
   "metadata": {},
   "source": [
    "#### Immutability"
   ]
  },
  {
   "cell_type": "markdown",
   "metadata": {},
   "source": [
    "Python offers immutable data types, in particular \"Tuple\", to be contrasted with standard lists."
   ]
  },
  {
   "cell_type": "code",
   "execution_count": 11,
   "metadata": {},
   "outputs": [
    {
     "name": "stdout",
     "output_type": "stream",
     "text": [
      "mutable is of type  <class 'list'> [4, 5]\n",
      "immutable is of type  <class 'tuple'> [4, 5]\n"
     ]
    }
   ],
   "source": [
    "mutable = ['Jack', 10, [4, 5]]\n",
    "immutable = ('Jack', 10, [4, 5])\n",
    "\n",
    "# Reading from data types are essentially the same:\n",
    "print(\"mutable is of type \", type(mutable), mutable[2])    # [4, 5]\n",
    "print(\"immutable is of type \", type(immutable), immutable[2])  # [4, 5]"
   ]
  },
  {
   "cell_type": "code",
   "execution_count": 12,
   "metadata": {},
   "outputs": [
    {
     "ename": "TypeError",
     "evalue": "'tuple' object does not support item assignment",
     "output_type": "error",
     "traceback": [
      "\u001b[1;31m---------------------------------------------------------------------------\u001b[0m",
      "\u001b[1;31mTypeError\u001b[0m                                 Traceback (most recent call last)",
      "\u001b[1;32m~\\AppData\\Local\\Temp/ipykernel_13652/757164792.py\u001b[0m in \u001b[0;36m<module>\u001b[1;34m\u001b[0m\n\u001b[0;32m      1\u001b[0m \u001b[1;31m# Tuple items cannot be modified\u001b[0m\u001b[1;33m\u001b[0m\u001b[1;33m\u001b[0m\u001b[1;33m\u001b[0m\u001b[0m\n\u001b[0;32m      2\u001b[0m \u001b[0mmutable\u001b[0m\u001b[1;33m[\u001b[0m\u001b[1;36m1\u001b[0m\u001b[1;33m]\u001b[0m \u001b[1;33m=\u001b[0m \u001b[1;36m15\u001b[0m\u001b[1;33m\u001b[0m\u001b[1;33m\u001b[0m\u001b[0m\n\u001b[1;32m----> 3\u001b[1;33m \u001b[0mimmutable\u001b[0m\u001b[1;33m[\u001b[0m\u001b[1;36m1\u001b[0m\u001b[1;33m]\u001b[0m \u001b[1;33m=\u001b[0m \u001b[1;36m15\u001b[0m \u001b[1;31m## Generates an error\u001b[0m\u001b[1;33m\u001b[0m\u001b[1;33m\u001b[0m\u001b[0m\n\u001b[0m",
      "\u001b[1;31mTypeError\u001b[0m: 'tuple' object does not support item assignment"
     ]
    }
   ],
   "source": [
    "# Tuple items cannot be modified\n",
    "mutable[1] = 15\n",
    "immutable[1] = 15 ## Generates an error"
   ]
  },
  {
   "cell_type": "code",
   "execution_count": 13,
   "metadata": {},
   "outputs": [
    {
     "name": "stdout",
     "output_type": "stream",
     "text": [
      "<class 'list'>\n",
      "('Jack', 10, [4, 5, 3])\n"
     ]
    }
   ],
   "source": [
    "### Note that immutable[2] is a List, and not a Tuple, and therefore can be modified, for example:\n",
    "print(type(immutable[2]))\n",
    "immutable[2].append(3)\n",
    "print(immutable)"
   ]
  },
  {
   "cell_type": "markdown",
   "metadata": {},
   "source": [
    "\\begin{exercise}\n",
    "Suppose you are a bank, and you need to construct a database for all the accounts. How would you write (as a list or a tuple) it, given that an account has the following attributes (for each attribute, indicate its type):\n",
    "\n",
    "\\begin{itemize}\n",
    "\\item Bank account number\n",
    "\\item Bank account holder's name\n",
    "\\item  Transactions (with the corresponding date)\n",
    "\\end{itemize}\n",
    "\\end{exercise}\n",
    "\n"
   ]
  },
  {
   "cell_type": "markdown",
   "metadata": {},
   "source": [
    "# Higher-order functions"
   ]
  },
  {
   "cell_type": "markdown",
   "metadata": {},
   "source": [
    "A higher-order function is a function that takes other functions (or actions) as arguments. One may think of it as a convolution function."
   ]
  },
  {
   "cell_type": "code",
   "execution_count": 14,
   "metadata": {},
   "outputs": [
    {
     "name": "stdout",
     "output_type": "stream",
     "text": [
      "Hello\n",
      "Hello\n",
      "Hello\n"
     ]
    }
   ],
   "source": [
    "def hof_write_repeat(message, n, action):\n",
    "    for i in range(n):\n",
    "        action(message)\n",
    "\n",
    "hof_write_repeat('Hello', 3, print)"
   ]
  },
  {
   "cell_type": "code",
   "execution_count": 15,
   "metadata": {
    "scrolled": true
   },
   "outputs": [
    {
     "name": "stderr",
     "output_type": "stream",
     "text": [
      "ERROR:root:Hello\n",
      "ERROR:root:Hello\n",
      "ERROR:root:Hello\n"
     ]
    }
   ],
   "source": [
    "import logging\n",
    "## Logging allows you to track events occurring when something is running\n",
    "# Log the output as an error instead\n",
    "hof_write_repeat('Hello', 3, logging.error)"
   ]
  },
  {
   "cell_type": "code",
   "execution_count": 16,
   "metadata": {},
   "outputs": [
    {
     "data": {
      "text/plain": [
       "<function logging.error(msg, *args, **kwargs)>"
      ]
     },
     "execution_count": 16,
     "metadata": {},
     "output_type": "execute_result"
    }
   ],
   "source": [
    "logging.error"
   ]
  },
  {
   "cell_type": "code",
   "execution_count": 18,
   "metadata": {},
   "outputs": [
    {
     "name": "stdout",
     "output_type": "stream",
     "text": [
      "add5 has type  <class 'function'>\n",
      "[28, 93]\n",
      "[33, 98]\n"
     ]
    }
   ],
   "source": [
    "def hof_add(increment):\n",
    "    # Create a function that loops and adds the increment\n",
    "    def add_increment(listOfNumbers):\n",
    "        return [l + increment for l in listOfNumbers]\n",
    "    return add_increment\n",
    "\n",
    "add5 = hof_add(5)\n",
    "\n",
    "print(\"add5 has type \", type(add5))\n",
    "print(add5([23, 88]))\n",
    "add10 = hof_add(10)\n",
    "print(add10([23, 88]))"
   ]
  },
  {
   "cell_type": "markdown",
   "metadata": {},
   "source": [
    "# lambda functions "
   ]
  },
  {
   "cell_type": "markdown",
   "metadata": {},
   "source": [
    "A `lambda` function is an anonymous function. \n",
    "They act like standard functions, but are created withouth the `def` keyword and without a name.\n",
    "Their key attributes are \n",
    "\n",
    "- they can take any number of arguments;\n",
    "- they can return function objects;\n",
    "- they only contain one single expression.\n"
   ]
  },
  {
   "cell_type": "code",
   "execution_count": 19,
   "metadata": {},
   "outputs": [
    {
     "data": {
      "text/plain": [
       "6"
      ]
     },
     "execution_count": 19,
     "metadata": {},
     "output_type": "execute_result"
    }
   ],
   "source": [
    "product = lambda x, y : x * y\n",
    "product(2, 3)"
   ]
  },
  {
   "cell_type": "markdown",
   "metadata": {},
   "source": [
    "We can write a multiplication table, similarly to above, using lambda functions:"
   ]
  },
  {
   "cell_type": "code",
   "execution_count": 20,
   "metadata": {},
   "outputs": [
    {
     "name": "stdout",
     "output_type": "stream",
     "text": [
      "[0, 3, 6, 9, 12, 15, 18, 21, 24, 27]\n"
     ]
    }
   ],
   "source": [
    "def hof_product(multiplier):\n",
    "    return lambda x: x * multiplier\n",
    "\n",
    "multTable = hof_product(3)\n",
    "print([multTable(i) for i in range(10)])"
   ]
  },
  {
   "cell_type": "markdown",
   "metadata": {},
   "source": [
    "Warning:"
   ]
  },
  {
   "cell_type": "code",
   "execution_count": 25,
   "metadata": {},
   "outputs": [
    {
     "ename": "NameError",
     "evalue": "name 'arange' is not defined",
     "output_type": "error",
     "traceback": [
      "\u001b[1;31m---------------------------------------------------------------------------\u001b[0m",
      "\u001b[1;31mNameError\u001b[0m                                 Traceback (most recent call last)",
      "\u001b[1;32m~\\AppData\\Local\\Temp/ipykernel_13652/427656729.py\u001b[0m in \u001b[0;36m<module>\u001b[1;34m\u001b[0m\n\u001b[1;32m----> 1\u001b[1;33m \u001b[0mmultTable\u001b[0m\u001b[1;33m(\u001b[0m\u001b[0marange\u001b[0m\u001b[1;33m(\u001b[0m\u001b[1;36m10\u001b[0m\u001b[1;33m)\u001b[0m\u001b[1;33m)\u001b[0m\u001b[1;33m\u001b[0m\u001b[1;33m\u001b[0m\u001b[0m\n\u001b[0m",
      "\u001b[1;31mNameError\u001b[0m: name 'arange' is not defined"
     ]
    }
   ],
   "source": [
    "multTable(arange(10))"
   ]
  },
  {
   "cell_type": "markdown",
   "metadata": {},
   "source": [
    "What is the problem? How do you solve it?"
   ]
  },
  {
   "cell_type": "markdown",
   "metadata": {},
   "source": [
    "\\begin{exercise}\n",
    "Rewrite the higher-order function `hof_add` above using `lambda` functions\n",
    "\\end{exercise}"
   ]
  },
  {
   "cell_type": "code",
   "execution_count": 26,
   "metadata": {},
   "outputs": [
    {
     "data": {
      "text/plain": [
       "array([ 0,  3,  6,  9, 12, 15, 18, 21, 24, 27])"
      ]
     },
     "execution_count": 26,
     "metadata": {},
     "output_type": "execute_result"
    }
   ],
   "source": [
    "multTable(np.arange(10))"
   ]
  },
  {
   "cell_type": "markdown",
   "metadata": {},
   "source": [
    "# Built-in higher-order functions"
   ]
  },
  {
   "cell_type": "markdown",
   "metadata": {},
   "source": [
    "Python has several higher-order functions already built in. Note that they always return an iterator."
   ]
  },
  {
   "cell_type": "markdown",
   "metadata": {},
   "source": [
    "## The `map` function"
   ]
  },
  {
   "cell_type": "markdown",
   "metadata": {},
   "source": [
    "It allows us to apply a function to every element in an iterable (可遍历的) object."
   ]
  },
  {
   "cell_type": "code",
   "execution_count": 42,
   "metadata": {},
   "outputs": [
    {
     "name": "stdout",
     "output_type": "stream",
     "text": [
      "Hello George\n",
      "Hello Yuvraj\n",
      "Hello Benjamin\n",
      "Hello Thomas\n",
      "Hello Mario\n",
      "Hello Shikang\n",
      "Hello Konstantinos\n",
      "Hello Yufan\n"
     ]
    }
   ],
   "source": [
    "names = ['George', 'Yuvraj', 'Benjamin', 'Thomas', 'Mario', 'Shikang', 'Konstantinos', 'Yufan']\n",
    "\n",
    "greetingPhrase = \"Hello\"\n",
    "\n",
    "for name in names:\n",
    "    print(greetingPhrase + \" \" + name)"
   ]
  },
  {
   "cell_type": "code",
   "execution_count": 43,
   "metadata": {},
   "outputs": [
    {
     "name": "stdout",
     "output_type": "stream",
     "text": [
      "<map object at 0x000001A4A4A78940> <class 'map'>\n"
     ]
    }
   ],
   "source": [
    "greeted_names = map(lambda x: greetingPhrase + \" \" + x, names)  # Map is to create a func for a list or array\n",
    "print(greeted_names, type(greeted_names))"
   ]
  },
  {
   "cell_type": "code",
   "execution_count": 44,
   "metadata": {},
   "outputs": [
    {
     "name": "stdout",
     "output_type": "stream",
     "text": [
      "<map object at 0x000001A4A4A78A60> <class 'map'>\n",
      "Hello George\n",
      "Hello Yuvraj\n",
      "Hello Benjamin\n",
      "Hello Thomas\n",
      "Hello Mario\n",
      "Hello Shikang\n",
      "Hello Konstantinos\n",
      "Hello Yufan\n"
     ]
    }
   ],
   "source": [
    "greeted_names = map(lambda x: greetingPhrase + \" \" + x, names)  # Map is to create a func for a list or array\n",
    "print(greeted_names, type(greeted_names))\n",
    "\n",
    "for g in greeted_names:\n",
    "    print(g)"
   ]
  },
  {
   "cell_type": "code",
   "execution_count": 45,
   "metadata": {},
   "outputs": [
    {
     "name": "stdout",
     "output_type": "stream",
     "text": [
      "<map object at 0x000001A4A4A78160> <class 'map'>\n"
     ]
    },
    {
     "data": {
      "text/plain": [
       "['Hello George',\n",
       " 'Hello Yuvraj',\n",
       " 'Hello Benjamin',\n",
       " 'Hello Thomas',\n",
       " 'Hello Mario',\n",
       " 'Hello Shikang',\n",
       " 'Hello Konstantinos',\n",
       " 'Hello Yufan']"
      ]
     },
     "execution_count": 45,
     "metadata": {},
     "output_type": "execute_result"
    }
   ],
   "source": [
    "greeted_names = map(lambda x: greetingPhrase + \" \" + x, names)  # Map is to create a func for a list or array\n",
    "print(greeted_names, type(greeted_names))\n",
    "\n",
    "list(greeted_names)"
   ]
  },
  {
   "cell_type": "code",
   "execution_count": 46,
   "metadata": {},
   "outputs": [
    {
     "data": {
      "text/plain": [
       "[]"
      ]
     },
     "execution_count": 46,
     "metadata": {},
     "output_type": "execute_result"
    }
   ],
   "source": [
    "# Map can only use once\n",
    "\n",
    "list(greeted_names)"
   ]
  },
  {
   "cell_type": "markdown",
   "metadata": {},
   "source": [
    "\\begin{remark}\n",
    "Tuples, as presented above, are also iterable, so `map` can be applied to them as well:\n",
    "\\end{remark}"
   ]
  },
  {
   "cell_type": "code",
   "execution_count": 47,
   "metadata": {},
   "outputs": [
    {
     "name": "stdout",
     "output_type": "stream",
     "text": [
      "Hello George\n",
      "Hello Yuvraj\n",
      "Hello Benjamin\n",
      "Hello Thomas\n",
      "Hello Mario\n",
      "Hello Shikang\n",
      "Hello Konstantinos\n",
      "Hello Yufan\n"
     ]
    }
   ],
   "source": [
    "names = tuple(['George', 'Yuvraj', 'Benjamin', 'Thomas', 'Mario', 'Shikang', 'Konstantinos', 'Yufan'])\n",
    "greeted_names = map(lambda x: greetingPhrase + \" \" + x, names)\n",
    "for name in greeted_names:\n",
    "    print(name)"
   ]
  },
  {
   "cell_type": "markdown",
   "metadata": {},
   "source": [
    "\\begin{exercise}\n",
    "Rewrite the multiplication table above using `map` and `lambda` functions.\n",
    "\\end{exercise}"
   ]
  },
  {
   "cell_type": "markdown",
   "metadata": {},
   "source": [
    "## The `filter` function."
   ]
  },
  {
   "cell_type": "markdown",
   "metadata": {},
   "source": [
    " It tests every element in an iterable object with a function that returns True or False, keeping the former only. Like a map and take things in iterable for a few of if and not. *The point is it will only keep True.*"
   ]
  },
  {
   "cell_type": "code",
   "execution_count": 48,
   "metadata": {},
   "outputs": [
    {
     "name": "stdout",
     "output_type": "stream",
     "text": [
      "<filter object at 0x000001A4A4A78190>\n",
      "[10, 35]\n"
     ]
    }
   ],
   "source": [
    "numbers = [13, 10, 11, 18, 35]\n",
    "div_by_5 = filter(lambda num: num % 5 == 0, numbers)\n",
    "print(div_by_5)\n",
    "# We can convert the iterator into a list\n",
    "print(list(div_by_5)) # [35]"
   ]
  },
  {
   "cell_type": "code",
   "execution_count": 49,
   "metadata": {},
   "outputs": [
    {
     "name": "stdout",
     "output_type": "stream",
     "text": [
      "<map object at 0x000001A4A4A78E20>\n",
      "[False, True, False, False, True]\n"
     ]
    }
   ],
   "source": [
    "numbers = [13, 10, 11, 18, 35]\n",
    "div_by_5 = map(lambda num: num % 5 == 0, numbers)\n",
    "print(div_by_5)\n",
    "# We can convert the iterator into a list\n",
    "print(list(div_by_5)) # [35]"
   ]
  },
  {
   "cell_type": "markdown",
   "metadata": {},
   "source": [
    "**Question:** What would be the output of above cell if we were to replace `filter` by `map`?"
   ]
  },
  {
   "cell_type": "markdown",
   "metadata": {},
   "source": [
    "\\begin{exercise}\n",
    "Rewrite the `div_vy_5` function using `map`\n",
    "\\end{exercise}"
   ]
  },
  {
   "cell_type": "markdown",
   "metadata": {},
   "source": [
    "## `functools` functions"
   ]
  },
  {
   "cell_type": "markdown",
   "metadata": {},
   "source": [
    "### `reduce`"
   ]
  },
  {
   "cell_type": "markdown",
   "metadata": {},
   "source": [
    "reduces the iterable to a single value. Contrary to `filter` and `map`, **it takes two input values.**"
   ]
  },
  {
   "cell_type": "code",
   "execution_count": 50,
   "metadata": {},
   "outputs": [
    {
     "name": "stdout",
     "output_type": "stream",
     "text": [
      "The sum is equal to 45\n",
      "The maximum is equal to 9\n"
     ]
    }
   ],
   "source": [
    "import functools \n",
    "  \n",
    "myList = range(10)\n",
    "  \n",
    "mySum = functools.reduce(lambda a,b : a+b,myList)\n",
    "print(\"The sum is equal to\", mySum) \n",
    "  \n",
    "myMax = functools.reduce(lambda a,b : a if a > b else b,myList)\n",
    "print(\"The maximum is equal to\", myMax) "
   ]
  },
  {
   "cell_type": "code",
   "execution_count": 59,
   "metadata": {},
   "outputs": [
    {
     "name": "stdout",
     "output_type": "stream",
     "text": [
      "0.007100343704223633 1783293664\n"
     ]
    }
   ],
   "source": [
    "import time\n",
    "\n",
    "t0 = time.time()\n",
    "N = 1000000\n",
    "xx=np.arange(N)\n",
    "mySumnp = np.sum(xx)\n",
    "dt = time.time() - t0\n",
    "print(dt, mySumnp)"
   ]
  },
  {
   "cell_type": "code",
   "execution_count": 60,
   "metadata": {},
   "outputs": [
    {
     "name": "stdout",
     "output_type": "stream",
     "text": [
      "0.23580503463745117 499999500000\n"
     ]
    }
   ],
   "source": [
    "t0 = time.time()\n",
    "\n",
    "xx = range(N)\n",
    "mySum = functools.reduce(lambda a,b : a+b,xx)\n",
    "dt = time.time() - t0\n",
    "print(dt, mySum)"
   ]
  },
  {
   "cell_type": "markdown",
   "metadata": {},
   "source": [
    "Quote by Guido van Rossum:\n",
    "*Use functools.reduce if you really need it; however, 99% of the time an explicit for loop is more readable.*"
   ]
  },
  {
   "cell_type": "markdown",
   "metadata": {},
   "source": [
    "### The `partial` module"
   ]
  },
  {
   "cell_type": "markdown",
   "metadata": {},
   "source": [
    "One may want to use the behaviour of a function, but freezing some of its arguments.\n",
    "For example\n",
    "\n",
    "**不想让trader改动我的定价func，从而做出一些冒险的行为而不被公司发现**\n",
    "\n",
    "不过只可以freeze前面的variable，所以在定义的时候需要rerange一下variable的顺序"
   ]
  },
  {
   "cell_type": "code",
   "execution_count": 61,
   "metadata": {},
   "outputs": [
    {
     "data": {
      "text/plain": [
       "5"
      ]
     },
     "execution_count": 61,
     "metadata": {},
     "output_type": "execute_result"
    }
   ],
   "source": [
    "def add(a):\n",
    "    return a+2\n",
    "add(3)"
   ]
  },
  {
   "cell_type": "code",
   "execution_count": 62,
   "metadata": {},
   "outputs": [
    {
     "name": "stdout",
     "output_type": "stream",
     "text": [
      "6\n",
      "14\n"
     ]
    }
   ],
   "source": [
    "from functools import partial\n",
    "def add(a, b):\n",
    "    return a + b\n",
    "\n",
    "add_two = partial(add, 2)\n",
    "add_ten = partial(add, 10)\n",
    "\n",
    "print(add_two(4))\n",
    "print(add_ten(4))"
   ]
  },
  {
   "cell_type": "markdown",
   "metadata": {},
   "source": [
    "*Example: When using the Black-Scholes pricing function, we may want to impose a specified interest rate, that the user cannot modify.* "
   ]
  },
  {
   "cell_type": "markdown",
   "metadata": {},
   "source": [
    "\\begin{exercise}\n",
    "Rewrite the above two operations (sum and max) using `numpy` packages (not with `functools`)\n",
    "\\end{exercise}"
   ]
  },
  {
   "cell_type": "markdown",
   "metadata": {},
   "source": [
    "\\begin{exercise}\n",
    "Write the following command using `map` and `filter`:\n",
    "\n",
    "`arbitrary_numbers = [num ** 3 for num in range(1, 21) if num % 3 == 0]`\n",
    "\n",
    "Test on the list `numbers = [13, 10, 11, 18, 35]`\n",
    "\\end{exercise}"
   ]
  },
  {
   "cell_type": "code",
   "execution_count": 63,
   "metadata": {},
   "outputs": [],
   "source": [
    "## Solution:\n",
    "arbitrary_numbersFilter = map(lambda num: num ** 3, filter(lambda num: num % 3 == 0, range(1, 21)))"
   ]
  },
  {
   "cell_type": "markdown",
   "metadata": {},
   "source": [
    "# Iterators and Generators"
   ]
  },
  {
   "cell_type": "markdown",
   "metadata": {},
   "source": [
    "An iterator is an object representing a stream of data. It must support a method called `__next__()` that takes no argument and returns the next element of the stream. At the end of the stream, `__next__()` raises the `StopIteration` exception. Iterators (the data) can be of finite or infinite length."
   ]
  },
  {
   "cell_type": "markdown",
   "metadata": {},
   "source": [
    "Standard objects to iterate over (called iterable objects) are lists, tuples, arrays, dictionaries."
   ]
  },
  {
   "cell_type": "code",
   "execution_count": 64,
   "metadata": {},
   "outputs": [
    {
     "name": "stdout",
     "output_type": "stream",
     "text": [
      "[ 1.   5.5 10. ] <class 'numpy.ndarray'>\n"
     ]
    }
   ],
   "source": [
    "## Example\n",
    "xx = np.linspace(1., 10., 3)\n",
    "print(xx, type(xx))"
   ]
  },
  {
   "cell_type": "code",
   "execution_count": 65,
   "metadata": {},
   "outputs": [
    {
     "name": "stdout",
     "output_type": "stream",
     "text": [
      "it:  <iterator object at 0x000001A4A4A8A400> <class 'iterator'>\n",
      "1.0\n",
      "5.5\n",
      "10.0\n"
     ]
    }
   ],
   "source": [
    "it = iter(xx)\n",
    "print(\"it: \", it, type(it))\n",
    "print(next(it))\n",
    "print(next(it))\n",
    "print(next(it))"
   ]
  },
  {
   "cell_type": "code",
   "execution_count": 66,
   "metadata": {},
   "outputs": [
    {
     "ename": "StopIteration",
     "evalue": "",
     "output_type": "error",
     "traceback": [
      "\u001b[1;31m---------------------------------------------------------------------------\u001b[0m",
      "\u001b[1;31mStopIteration\u001b[0m                             Traceback (most recent call last)",
      "\u001b[1;32m~\\AppData\\Local\\Temp/ipykernel_13652/962129236.py\u001b[0m in \u001b[0;36m<module>\u001b[1;34m\u001b[0m\n\u001b[1;32m----> 1\u001b[1;33m \u001b[0mprint\u001b[0m\u001b[1;33m(\u001b[0m\u001b[0mnext\u001b[0m\u001b[1;33m(\u001b[0m\u001b[0mit\u001b[0m\u001b[1;33m)\u001b[0m\u001b[1;33m)\u001b[0m\u001b[1;33m\u001b[0m\u001b[1;33m\u001b[0m\u001b[0m\n\u001b[0m",
      "\u001b[1;31mStopIteration\u001b[0m: "
     ]
    }
   ],
   "source": [
    "print(next(it))"
   ]
  },
  {
   "cell_type": "markdown",
   "metadata": {},
   "source": [
    "The functions min(), max(), in are built-in functions operating on iterators:"
   ]
  },
  {
   "cell_type": "code",
   "execution_count": 68,
   "metadata": {},
   "outputs": [
    {
     "name": "stdout",
     "output_type": "stream",
     "text": [
      "10.0\n",
      "1.0\n",
      "True\n",
      "False\n"
     ]
    }
   ],
   "source": [
    "print(max(iter(xx)))\n",
    "print(min(iter(xx)))\n",
    "print(xx[1] in iter(xx))\n",
    "print(1.2 in iter(xx))"
   ]
  },
  {
   "cell_type": "markdown",
   "metadata": {},
   "source": [
    "### Iterators for dictionaries"
   ]
  },
  {
   "cell_type": "markdown",
   "metadata": {},
   "source": [
    "Since dictionaries are iterable objects, we can also construct iterators on them."
   ]
  },
  {
   "cell_type": "markdown",
   "metadata": {},
   "source": [
    "Let us illustrate this on financial data.\n",
    "We first import options data on the S&P 500 from Yahoo Finance, and create a dictionary from this `pandas` dataframe."
   ]
  },
  {
   "cell_type": "code",
   "execution_count": null,
   "metadata": {},
   "outputs": [],
   "source": [
    "from yahoo_fin import options\n",
    "chain = options.get_options_chain(\"spy\")\n",
    "calls = chain[\"calls\"]"
   ]
  },
  {
   "cell_type": "code",
   "execution_count": null,
   "metadata": {},
   "outputs": [],
   "source": [
    "calls.head()"
   ]
  },
  {
   "cell_type": "code",
   "execution_count": null,
   "metadata": {},
   "outputs": [],
   "source": [
    "calls.info()"
   ]
  },
  {
   "cell_type": "code",
   "execution_count": null,
   "metadata": {},
   "outputs": [],
   "source": [
    "someIndex = len(calls) // 2\n",
    "keys = list(calls.keys())\n",
    "## Same as keys = calls.columns.values\n",
    "values = [calls[k][someIndex] for k in keys]\n",
    "dictio = {k : v for (k,v) in zip(keys, values)}"
   ]
  },
  {
   "cell_type": "code",
   "execution_count": null,
   "metadata": {},
   "outputs": [],
   "source": [
    "dictio.keys()"
   ]
  },
  {
   "cell_type": "code",
   "execution_count": null,
   "metadata": {},
   "outputs": [],
   "source": [
    "for k in dictio.keys():\n",
    "    print(k, \": \", dictio[k])"
   ]
  },
  {
   "cell_type": "code",
   "execution_count": null,
   "metadata": {},
   "outputs": [],
   "source": [
    "## The iterator loops over the keys of the dictionary\n",
    "it = iter(dictio)\n",
    "next(it)"
   ]
  },
  {
   "cell_type": "code",
   "execution_count": null,
   "metadata": {},
   "outputs": [],
   "source": [
    "next(it)"
   ]
  },
  {
   "cell_type": "markdown",
   "metadata": {},
   "source": [
    "### Generators"
   ]
  },
  {
   "cell_type": "markdown",
   "metadata": {},
   "source": [
    "Generators are similar to functions, but do not destroy the local environment within a Python function once the function has been evaluated."
   ]
  },
  {
   "cell_type": "code",
   "execution_count": 69,
   "metadata": {},
   "outputs": [
    {
     "name": "stdout",
     "output_type": "stream",
     "text": [
      "it is of type  <class 'generator'>\n",
      "0\n",
      "1\n",
      "2\n"
     ]
    }
   ],
   "source": [
    "def generate_ints(N):\n",
    "    for i in range(N):\n",
    "        yield i\n",
    "## there is no `return' command for generators\n",
    "\n",
    "it = generate_ints(3)\n",
    "print(\"it is of type \", type(it))\n",
    "\n",
    "print(next(it))\n",
    "print(next(it))\n",
    "print(next(it))"
   ]
  },
  {
   "cell_type": "markdown",
   "metadata": {},
   "source": [
    "You can also modify the value of an internal counter within a generator, using the send() method."
   ]
  },
  {
   "cell_type": "code",
   "execution_count": 70,
   "metadata": {},
   "outputs": [],
   "source": [
    "def counter(maximum):\n",
    "    i = 0\n",
    "    while i < maximum:\n",
    "        val = yield i\n",
    "        # If a value provided, we change the counter\n",
    "        if val is not None:\n",
    "            i = val\n",
    "        else:\n",
    "            i += 1"
   ]
  },
  {
   "cell_type": "code",
   "execution_count": 71,
   "metadata": {},
   "outputs": [
    {
     "name": "stdout",
     "output_type": "stream",
     "text": [
      "0\n",
      "1\n",
      "2\n",
      "9\n"
     ]
    },
    {
     "ename": "StopIteration",
     "evalue": "",
     "output_type": "error",
     "traceback": [
      "\u001b[1;31m---------------------------------------------------------------------------\u001b[0m",
      "\u001b[1;31mStopIteration\u001b[0m                             Traceback (most recent call last)",
      "\u001b[1;32m~\\AppData\\Local\\Temp/ipykernel_13652/3763040768.py\u001b[0m in \u001b[0;36m<module>\u001b[1;34m\u001b[0m\n\u001b[0;32m      5\u001b[0m \u001b[0mit\u001b[0m\u001b[1;33m.\u001b[0m\u001b[0msend\u001b[0m\u001b[1;33m(\u001b[0m\u001b[1;36m8\u001b[0m\u001b[1;33m)\u001b[0m\u001b[1;33m\u001b[0m\u001b[1;33m\u001b[0m\u001b[0m\n\u001b[0;32m      6\u001b[0m \u001b[0mprint\u001b[0m\u001b[1;33m(\u001b[0m\u001b[0mnext\u001b[0m\u001b[1;33m(\u001b[0m\u001b[0mit\u001b[0m\u001b[1;33m)\u001b[0m\u001b[1;33m)\u001b[0m\u001b[1;33m\u001b[0m\u001b[1;33m\u001b[0m\u001b[0m\n\u001b[1;32m----> 7\u001b[1;33m \u001b[0mprint\u001b[0m\u001b[1;33m(\u001b[0m\u001b[0mnext\u001b[0m\u001b[1;33m(\u001b[0m\u001b[0mit\u001b[0m\u001b[1;33m)\u001b[0m\u001b[1;33m)\u001b[0m\u001b[1;33m\u001b[0m\u001b[1;33m\u001b[0m\u001b[0m\n\u001b[0m",
      "\u001b[1;31mStopIteration\u001b[0m: "
     ]
    }
   ],
   "source": [
    "it = counter(10)\n",
    "print(next(it))\n",
    "print(next(it))\n",
    "print(next(it))\n",
    "it.send(8)\n",
    "print(next(it))\n",
    "print(next(it))"
   ]
  },
  {
   "cell_type": "markdown",
   "metadata": {},
   "source": [
    "The other useful methods on generators are\n",
    "- throw() to raise an exception\n",
    "- close() to terminate the iteration within the generator"
   ]
  },
  {
   "cell_type": "markdown",
   "metadata": {},
   "source": [
    "### Built-in functions for iterators"
   ]
  },
  {
   "cell_type": "code",
   "execution_count": 72,
   "metadata": {},
   "outputs": [
    {
     "data": {
      "text/plain": [
       "['BNP', 'PYTHON', 'EQUITIES', 'RATES', 'COMMODITIES']"
      ]
     },
     "execution_count": 72,
     "metadata": {},
     "output_type": "execute_result"
    }
   ],
   "source": [
    "## the map() function returns an iterator over a sequence\n",
    "def upper(word):\n",
    "    return word.upper()\n",
    "\n",
    "listNames = ['bnp', 'python', 'equities', 'rates', 'commodities']\n",
    "m = map(upper, listNames)\n",
    "list(m)"
   ]
  },
  {
   "cell_type": "markdown",
   "metadata": {},
   "source": [
    "#### `enumerate()`"
   ]
  },
  {
   "cell_type": "code",
   "execution_count": 82,
   "metadata": {},
   "outputs": [
    {
     "name": "stdout",
     "output_type": "stream",
     "text": [
      "0 bnp\n",
      "1 python\n",
      "2 equities\n",
      "3 rates\n",
      "4 commodities\n"
     ]
    }
   ],
   "source": [
    "for i in range(len(listNames)):\n",
    "    print(i, listNames[i])"
   ]
  },
  {
   "cell_type": "code",
   "execution_count": 79,
   "metadata": {
    "scrolled": true
   },
   "outputs": [
    {
     "name": "stdout",
     "output_type": "stream",
     "text": [
      "(0, 'bnp')\n",
      "(1, 'python')\n",
      "(2, 'equities')\n",
      "(3, 'rates')\n",
      "(4, 'commodities')\n"
     ]
    }
   ],
   "source": [
    "## enumerate() returns 2-tuples containing counts and elements:\n",
    "for x in enumerate(listNames):\n",
    "    print(x)"
   ]
  },
  {
   "cell_type": "markdown",
   "metadata": {},
   "source": [
    "#### `sorted()` and `sort()`"
   ]
  },
  {
   "cell_type": "code",
   "execution_count": 78,
   "metadata": {},
   "outputs": [
    {
     "data": {
      "text/plain": [
       "[('c', 1), ('a', 2), ('d', 4)]"
      ]
     },
     "execution_count": 78,
     "metadata": {},
     "output_type": "execute_result"
    }
   ],
   "source": [
    "unsortedList = [(\"a\", 2), (\"c\", 1), (\"d\", 4)]\n",
    "unsortedList.sort(key=lambda x: x[1]) # Sorted according to the index 1, 问题是本来的list也被sorted了\n",
    "unsortedList"
   ]
  },
  {
   "cell_type": "markdown",
   "metadata": {},
   "source": [
    "**Problem:** The original list has been modified."
   ]
  },
  {
   "cell_type": "code",
   "execution_count": 75,
   "metadata": {},
   "outputs": [
    {
     "data": {
      "text/plain": [
       "[('c', 1), ('a', 2), ('d', 4)]"
      ]
     },
     "execution_count": 75,
     "metadata": {},
     "output_type": "execute_result"
    }
   ],
   "source": [
    "unsortedList = [(\"a\", 2), (\"c\", 1), (\"d\", 4)]\n",
    "sorted(unsortedList, key=lambda x: x[1])  # Sorted according to the index 1"
   ]
  },
  {
   "cell_type": "code",
   "execution_count": 76,
   "metadata": {},
   "outputs": [
    {
     "data": {
      "text/plain": [
       "[('a', 2), ('c', 1), ('d', 4)]"
      ]
     },
     "execution_count": 76,
     "metadata": {},
     "output_type": "execute_result"
    }
   ],
   "source": [
    "unsortedList"
   ]
  },
  {
   "cell_type": "markdown",
   "metadata": {},
   "source": [
    "The main difference is that the original list is unchanged when using `sorted()`."
   ]
  },
  {
   "cell_type": "markdown",
   "metadata": {},
   "source": [
    "#### `zip()`"
   ]
  },
  {
   "cell_type": "markdown",
   "metadata": {},
   "source": [
    "`zip` converts multiple sequences and combines them into tuple. Here is an example creating a dictionary counting the letters in names:"
   ]
  },
  {
   "cell_type": "code",
   "execution_count": 87,
   "metadata": {},
   "outputs": [
    {
     "data": {
      "text/plain": [
       "{'Tao': 3,\n",
       " 'Mirko': 5,\n",
       " 'Arvid': 5,\n",
       " 'Gabriele': 8,\n",
       " 'Hendrik': 7,\n",
       " 'Camille': 7,\n",
       " 'Dimosthenis': 11}"
      ]
     },
     "execution_count": 87,
     "metadata": {},
     "output_type": "execute_result"
    }
   ],
   "source": [
    "names = ['Tao', 'Mirko', 'Arvid', 'Gabriele', 'Hendrik', 'Camille', 'Dimosthenis']\n",
    "ll = map(len, names)  # len of every name\n",
    "dict(zip(names, ll))"
   ]
  },
  {
   "cell_type": "markdown",
   "metadata": {},
   "source": [
    "### A Finance example"
   ]
  },
  {
   "cell_type": "code",
   "execution_count": 88,
   "metadata": {},
   "outputs": [],
   "source": [
    "## We define the implied volatility by bisection\n",
    "from scipy.stats import norm\n",
    "from scipy.optimize import bisect\n",
    "import matplotlib.pyplot as plt\n",
    "\n",
    "def BlackScholesCallPrice(S, K, T, sigma, r):\n",
    "    \"\"\"European Call option price in the Black-Scholes model\n",
    "    S: initial value for the stock price\n",
    "    K: strike\n",
    "    T: maturity\n",
    "    r: constant risk-free rate\n",
    "    \"\"\"\n",
    "    d1 = (np.log(S/K) + (r+.5*sigma**2)*T) / (sigma * np.sqrt(T))\n",
    "    d2 = d1 - sigma * np.sqrt(T)\n",
    "    return S*norm.cdf(d1) - K*np.exp (-r*T) * norm.cdf (d2)\n",
    "\n",
    "def impliedVol(S, K, T, r, price):\n",
    "    \"\"\"Computes the implied volatility given a Call option price\n",
    "    S: initial value for the stock price\n",
    "    K: strike\n",
    "    T: maturity\n",
    "    r: constant risk-free rate\n",
    "    price: observed price to match\n",
    "    \"\"\"\n",
    "    def smileMin(vol, *args):\n",
    "        S, K, T, r, price = args\n",
    "        return price - BlackScholesCallPrice(S, K, T, vol, r)\n",
    "    vMin = 0.0001\n",
    "    vMax = 3.\n",
    "    return bisect(smileMin, vMin, vMax, args=(S, K, T, r, price), rtol=1e-15, full_output=False, disp=True)"
   ]
  },
  {
   "cell_type": "code",
   "execution_count": 89,
   "metadata": {},
   "outputs": [
    {
     "name": "stdout",
     "output_type": "stream",
     "text": [
      "The implied volatility is equal to 1.4% for a Call option worth 0.1\n"
     ]
    }
   ],
   "source": [
    "## Example:\n",
    "S, K, T, r, callput = 1., 0.9,  1., 0., 1\n",
    "price = 0.1\n",
    "print(\"The implied volatility is equal to \" + str(np.round(100*impliedVol(S, K, T, r, price), 2)) + \"% for a Call option worth \" + str(np.round(price, 2)))"
   ]
  },
  {
   "cell_type": "markdown",
   "metadata": {},
   "source": [
    "Example of generated option prices and implied volatilities"
   ]
  },
  {
   "cell_type": "code",
   "execution_count": 92,
   "metadata": {},
   "outputs": [
    {
     "data": {
      "image/png": "[encoded data removed]",
      "text/plain": [
       "<Figure size 1008x432 with 2 Axes>"
      ]
     },
     "metadata": {},
     "output_type": "display_data"
    }
   ],
   "source": [
    "S, T, r, callput = 1., 1., 0., 1\n",
    "nbStrikes = 10\n",
    "KK = np.linspace(0.7, 1.3, nbStrikes)\n",
    "prices = [0.5*np.minimum(1./(2.*K), 1)*(S+ np.maximum(S-K, 0.)) for K in KK]\n",
    "ivs = [impliedVol(S, K, T, r, p) for (K,p) in zip(KK, prices)]\n",
    "\n",
    "plt.figure(figsize=(14, 6))\n",
    "plt.subplot(221)\n",
    "plt.plot(KK, [S for _ in KK], 'k--', label=\"Upper bound\")\n",
    "plt.plot(KK, [np.maximum(S-K,0.) for K in KK], 'c--', label=\"Lower bound\")\n",
    "plt.plot(KK, prices, 'b+', label=\"Prices\")\n",
    "plt.legend(loc=\"best\")\n",
    "plt.xlabel(\"Strike\")\n",
    "plt.title(\"Call option prices\")\n",
    "\n",
    "plt.subplot(222)\n",
    "plt.plot(KK, ivs, 'b+')\n",
    "plt.title(\"Implied volatilities\")\n",
    "plt.xlabel(\"Strike\")\n",
    "plt.show()"
   ]
  },
  {
   "cell_type": "markdown",
   "metadata": {},
   "source": [
    "Suppose now we want to be able to run the impliedVol() function for a whole range of strikes and option prices at the same time."
   ]
  },
  {
   "cell_type": "code",
   "execution_count": 93,
   "metadata": {},
   "outputs": [],
   "source": [
    "impliedVols = map(lambda K, p: impliedVol(S, K, T, r, p), KK, prices)"
   ]
  },
  {
   "cell_type": "code",
   "execution_count": 94,
   "metadata": {},
   "outputs": [
    {
     "data": {
      "text/plain": [
       "map"
      ]
     },
     "execution_count": 94,
     "metadata": {},
     "output_type": "execute_result"
    }
   ],
   "source": [
    "type(impliedVols)"
   ]
  },
  {
   "cell_type": "code",
   "execution_count": 95,
   "metadata": {},
   "outputs": [
    {
     "data": {
      "text/plain": [
       "array([0.89, 0.79, 0.72, 0.68, 0.65, 0.65, 0.67, 0.69, 0.7 , 0.72])"
      ]
     },
     "execution_count": 95,
     "metadata": {},
     "output_type": "execute_result"
    }
   ],
   "source": [
    "ivs = list(impliedVols)\n",
    "np.round(ivs, 2)"
   ]
  },
  {
   "cell_type": "code",
   "execution_count": 96,
   "metadata": {},
   "outputs": [],
   "source": [
    "## Note that we could have written this as a list comprehension as well:\n",
    "ivs = [impliedVol(S, K, T, r, p) for (K,p) in zip(KK, prices)]"
   ]
  },
  {
   "cell_type": "markdown",
   "metadata": {},
   "source": [
    "\\begin{exercise}\n",
    "Only returns the implied volatilities above a certain threshold\n",
    "\\end{exercise}"
   ]
  },
  {
   "cell_type": "code",
   "execution_count": 97,
   "metadata": {},
   "outputs": [],
   "source": [
    "threshold = .68\n",
    "\n",
    "ivs_filtered = list(filter(lambda x: x>threshold, ivs))\n",
    "TrueFalse = list(map(lambda x: x>threshold, ivs))\n",
    "KK_filtered = [K for (i,K) in enumerate(KK) if TrueFalse[i]] ## select the corresdonding strikes"
   ]
  },
  {
   "cell_type": "code",
   "execution_count": 98,
   "metadata": {},
   "outputs": [
    {
     "data": {
      "image/png": "[encoded data removed]",
      "text/plain": [
       "<Figure size 576x288 with 1 Axes>"
      ]
     },
     "metadata": {},
     "output_type": "display_data"
    }
   ],
   "source": [
    "plt.figure(figsize=(8,4))\n",
    "plt.plot(KK, ivs, 'b+', markersize=12, label=\"Before filter\")\n",
    "plt.plot(KK_filtered, ivs_filtered, 'ko', mfc='None', markersize=12, label=\"After filter\")\n",
    "plt.legend(loc=\"best\")\n",
    "plt.title(\"Implied volatilities\")\n",
    "plt.xlabel(\"Strike\")\n",
    "plt.show()"
   ]
  },
  {
   "cell_type": "markdown",
   "metadata": {},
   "source": [
    "# The itertools module\n",
    "The itertools module contains a number of commonly-used iterators as well as functions for combining several iterators.\n",
    "We only show some basic and useful examples."
   ]
  },
  {
   "cell_type": "code",
   "execution_count": 101,
   "metadata": {},
   "outputs": [],
   "source": [
    "import itertools"
   ]
  },
  {
   "cell_type": "code",
   "execution_count": 102,
   "metadata": {},
   "outputs": [
    {
     "data": {
      "text/plain": [
       "['abc', 'abc', 'abc', 'abc', 'abc']"
      ]
     },
     "execution_count": 102,
     "metadata": {},
     "output_type": "execute_result"
    }
   ],
   "source": [
    "list(itertools.repeat('abc', 5))"
   ]
  },
  {
   "cell_type": "code",
   "execution_count": 104,
   "metadata": {},
   "outputs": [
    {
     "data": {
      "text/plain": [
       "['a', 'b', 'c', 1, 2, 3]"
      ]
     },
     "execution_count": 104,
     "metadata": {},
     "output_type": "execute_result"
    }
   ],
   "source": [
    "list(itertools.chain(['a', 'b', 'c'], (1, 2, 3)))"
   ]
  },
  {
   "cell_type": "code",
   "execution_count": 105,
   "metadata": {},
   "outputs": [
    {
     "name": "stdout",
     "output_type": "stream",
     "text": [
      "[(1, 2), (1, 3), (1, 4), (1, 5), (2, 3), (2, 4), (2, 5), (3, 4), (3, 5), (4, 5)]\n",
      "Number of elements:  10\n"
     ]
    }
   ],
   "source": [
    "## Combinatorics\n",
    "comb = itertools.combinations([1, 2, 3, 4, 5], 2)\n",
    "combL = list(comb)\n",
    "print(combL)\n",
    "print(\"Number of elements: \", len(combL))"
   ]
  },
  {
   "cell_type": "markdown",
   "metadata": {},
   "source": [
    "Note that the elements within each output tuple are in the same order as the original iterable input"
   ]
  },
  {
   "cell_type": "code",
   "execution_count": 106,
   "metadata": {},
   "outputs": [
    {
     "name": "stdout",
     "output_type": "stream",
     "text": [
      "[(1, 2), (1, 3), (1, 4), (1, 5), (2, 1), (2, 3), (2, 4), (2, 5), (3, 1), (3, 2), (3, 4), (3, 5), (4, 1), (4, 2), (4, 3), (4, 5), (5, 1), (5, 2), (5, 3), (5, 4)]\n",
      "Number of elements:  20\n"
     ]
    }
   ],
   "source": [
    "perm = itertools.permutations([1, 2, 3, 4, 5], 2)\n",
    "permL = list(perm)\n",
    "print(permL)\n",
    "print(\"Number of elements: \", len(permL))"
   ]
  },
  {
   "cell_type": "markdown",
   "metadata": {},
   "source": [
    "`itertools.groupby`"
   ]
  },
  {
   "cell_type": "markdown",
   "metadata": {},
   "source": [
    "`groupby()` collects all the consecutive elements from the underlying iterable that have the same key value, and returns a stream of 2-tuples containing a key value and an iterator for the elements with that key."
   ]
  },
  {
   "cell_type": "code",
   "execution_count": 103,
   "metadata": {},
   "outputs": [
    {
     "name": "stdout",
     "output_type": "stream",
     "text": [
      "Country:  England\n",
      "London\n",
      "Liverpool\n",
      "York\n",
      "Bath\n",
      "*******\n",
      "Country:  Ireland\n",
      "Dublin\n",
      "Cork\n",
      "Galway\n",
      "*******\n",
      "Country:  Northern Ireland\n",
      "Belfast\n",
      "Londonderry\n",
      "*******\n",
      "Country:  Scotland\n",
      "Edinburg\n",
      "Glasgow\n",
      "Perth\n",
      "*******\n",
      "Country:  Wales\n",
      "Cardiff\n",
      "Swansea\n",
      "*******\n"
     ]
    }
   ],
   "source": [
    "ukCities = [('Edinburg', 'Scotland'), ('London', 'England'), ('Cardiff', 'Wales'),\n",
    "             ('Dublin', 'Ireland'), ('Belfast', 'Northern Ireland'), ('Glasgow', 'Scotland'), \n",
    "              ('Perth', 'Scotland'), ('Liverpool', 'England'), ('York', 'England'), ('Bath', 'England'), \n",
    "              ('Swansea', 'Wales'), ('Cork', 'Ireland'), ('Galway', 'Ireland'), ('Londonderry', 'Northern Ireland')]\n",
    "\n",
    "def get_country(myList):\n",
    "    return myList[1]\n",
    "\n",
    "data = sorted(ukCities, key=lambda x: x[1])\n",
    "itg = itertools.groupby(data, get_country)\n",
    "for i in itg:\n",
    "    print(\"Country: \", i[0])\n",
    "    for j in i[1]:\n",
    "        print(j[0])\n",
    "    print(\"*******\")"
   ]
  },
  {
   "cell_type": "markdown",
   "metadata": {},
   "source": [
    "# Decorators"
   ]
  },
  {
   "cell_type": "markdown",
   "metadata": {},
   "source": [
    "We have seen how to define functions on functions. We now move on, for the final part of this session,  how to modify (or  `decorate`) functions."
   ]
  },
  {
   "cell_type": "code",
   "execution_count": 109,
   "metadata": {},
   "outputs": [
    {
     "name": "stdout",
     "output_type": "stream",
     "text": [
      "<function myComment at 0x000001A4B5B4CF70>\n"
     ]
    }
   ],
   "source": [
    "def decor(f):\n",
    "    def wrapper():\n",
    "        print(\"***Something to do before the function is called***\")\n",
    "        f()\n",
    "        print(\"***Something to do after the function is called***\")\n",
    "    return wrapper\n",
    "\n",
    "def myComment():\n",
    "    print(\"My lecturer is amazing\")\n",
    "\n",
    "print(myComment)\n",
    "myComment = decor(myComment)"
   ]
  },
  {
   "cell_type": "code",
   "execution_count": 110,
   "metadata": {},
   "outputs": [
    {
     "name": "stdout",
     "output_type": "stream",
     "text": [
      "***Something to do before the function is called***\n",
      "My lecturer is amazing\n",
      "***Something to do after the function is called***\n"
     ]
    }
   ],
   "source": [
    "myComment()"
   ]
  },
  {
   "cell_type": "markdown",
   "metadata": {},
   "source": [
    "The function `myComment` now refers to the decorator instead of the function itself, indeed:"
   ]
  },
  {
   "cell_type": "code",
   "execution_count": 111,
   "metadata": {},
   "outputs": [
    {
     "data": {
      "text/plain": [
       "<function __main__.decor.<locals>.wrapper()>"
      ]
     },
     "execution_count": 111,
     "metadata": {},
     "output_type": "execute_result"
    }
   ],
   "source": [
    "myComment  # Not a func anymore, but a decorator"
   ]
  },
  {
   "cell_type": "markdown",
   "metadata": {},
   "source": [
    "## The `pie` syntax"
   ]
  },
  {
   "cell_type": "markdown",
   "metadata": {},
   "source": [
    "How to avoid repeating the function name too many times."
   ]
  },
  {
   "cell_type": "code",
   "execution_count": 114,
   "metadata": {},
   "outputs": [],
   "source": [
    "def decor(f):\n",
    "    def wrapper():\n",
    "        print(\"***Something to do before the function is called***\")\n",
    "        f()\n",
    "        print(\"***Something to do after the function is called***\")\n",
    "    return wrapper\n",
    "\n",
    "@decor\n",
    "def myComment():\n",
    "    print(\"My lecturer is amazing\")"
   ]
  },
  {
   "cell_type": "code",
   "execution_count": 115,
   "metadata": {},
   "outputs": [
    {
     "name": "stdout",
     "output_type": "stream",
     "text": [
      "***Something to do before the function is called***\n",
      "My lecturer is amazing\n",
      "***Something to do after the function is called***\n"
     ]
    }
   ],
   "source": [
    "myComment()"
   ]
  },
  {
   "cell_type": "markdown",
   "metadata": {},
   "source": [
    "## Decorating functions with arguments"
   ]
  },
  {
   "cell_type": "code",
   "execution_count": 116,
   "metadata": {},
   "outputs": [
    {
     "ename": "TypeError",
     "evalue": "wrapper() takes 0 positional arguments but 2 were given",
     "output_type": "error",
     "traceback": [
      "\u001b[1;31m---------------------------------------------------------------------------\u001b[0m",
      "\u001b[1;31mTypeError\u001b[0m                                 Traceback (most recent call last)",
      "\u001b[1;32m~\\AppData\\Local\\Temp/ipykernel_13652/246946092.py\u001b[0m in \u001b[0;36m<module>\u001b[1;34m\u001b[0m\n\u001b[0;32m     18\u001b[0m     \u001b[1;32mreturn\u001b[0m \u001b[0mpayoff\u001b[0m\u001b[1;33m\u001b[0m\u001b[1;33m\u001b[0m\u001b[0m\n\u001b[0;32m     19\u001b[0m \u001b[1;33m\u001b[0m\u001b[0m\n\u001b[1;32m---> 20\u001b[1;33m \u001b[0mcallOptionType\u001b[0m\u001b[1;33m(\u001b[0m\u001b[1;36m100\u001b[0m\u001b[1;33m,\u001b[0m \u001b[1;36m90\u001b[0m\u001b[1;33m)\u001b[0m\u001b[1;33m\u001b[0m\u001b[1;33m\u001b[0m\u001b[0m\n\u001b[0m",
      "\u001b[1;31mTypeError\u001b[0m: wrapper() takes 0 positional arguments but 2 were given"
     ]
    }
   ],
   "source": [
    "def decor(f):\n",
    "    def wrapper():\n",
    "        print(\"***Something to do before the function is called***\")\n",
    "        f()\n",
    "        print(\"***Something to do after the function is called***\")\n",
    "    return wrapper\n",
    "\n",
    "@decor\n",
    "def callOptionType(S, K):\n",
    "    if S<K:\n",
    "        msg = \"The Call option is out of the money\"\n",
    "    elif S>K:\n",
    "        msg = \"The Call option is in the money\"\n",
    "    else:\n",
    "        msg = \"The Call option is at the money\"\n",
    "    print(msg)\n",
    "    payoff = np.maximum(S-K, 0.)\n",
    "    return payoff\n",
    "        \n",
    "callOptionType(100, 90)"
   ]
  },
  {
   "cell_type": "code",
   "execution_count": 117,
   "metadata": {},
   "outputs": [
    {
     "name": "stdout",
     "output_type": "stream",
     "text": [
      "***Something to do before the function is called***\n",
      "The Call option is in the money\n",
      "***Something to do after the function is called***\n"
     ]
    }
   ],
   "source": [
    "def decor(f):\n",
    "    def wrapper(*args):  # What ever argument here, I will pass it to the function\n",
    "        print(\"***Something to do before the function is called***\")\n",
    "        f(*args)\n",
    "        print(\"***Something to do after the function is called***\")\n",
    "    return wrapper\n",
    "\n",
    "@decor\n",
    "def callOptionType(S, K):\n",
    "    if S<K:\n",
    "        msg = \"The Call option is out of the money\"\n",
    "    elif S>K:\n",
    "        msg = \"The Call option is in the money\"\n",
    "    else:\n",
    "        msg = \"The Call option is at the money\"\n",
    "    print(msg)\n",
    "    payoff = np.maximum(S-K, 0.)\n",
    "    return payoff\n",
    "        \n",
    "callOptionType(100., 90.)  # But not return the payoff!"
   ]
  },
  {
   "cell_type": "markdown",
   "metadata": {},
   "source": [
    "Note however that the wrapper inside the decorator does not return anything. \n",
    "The decorator did not return the value of the `callOptionType` function. We need to make sure the wrapper function returns the value of the decorated function."
   ]
  },
  {
   "cell_type": "code",
   "execution_count": 118,
   "metadata": {},
   "outputs": [
    {
     "name": "stdout",
     "output_type": "stream",
     "text": [
      "***Something to do before the function is called***\n",
      "The Call option is in the money\n",
      "***Something to do after the function is called***\n",
      "The Call option is in the money\n"
     ]
    },
    {
     "data": {
      "text/plain": [
       "10.0"
      ]
     },
     "execution_count": 118,
     "metadata": {},
     "output_type": "execute_result"
    }
   ],
   "source": [
    "def decor(f):\n",
    "    def wrapper(*args):\n",
    "        print(\"***Something to do before the function is called***\")\n",
    "        f(*args)\n",
    "        print(\"***Something to do after the function is called***\")\n",
    "        return f(*args) # I still need to modify the wrapper, i.e., the wrapper will return something\n",
    "    return wrapper\n",
    "\n",
    "@decor\n",
    "def callOptionType(S, K):\n",
    "    if S<K:\n",
    "        msg = \"The Call option is out of the money\"\n",
    "    elif S>K:\n",
    "        msg = \"The Call option is in the money\"\n",
    "    else:\n",
    "        msg = \"The Call option is at the money\"\n",
    "    print(msg)\n",
    "    payoff = np.maximum(S-K, 0.)\n",
    "    return payoff\n",
    "        \n",
    "callOptionType(100, 90)"
   ]
  },
  {
   "cell_type": "markdown",
   "metadata": {},
   "source": [
    "## Introspection?"
   ]
  },
  {
   "cell_type": "markdown",
   "metadata": {},
   "source": [
    "What is `callOptionType`?"
   ]
  },
  {
   "cell_type": "code",
   "execution_count": 119,
   "metadata": {},
   "outputs": [
    {
     "data": {
      "text/plain": [
       "<function __main__.decor.<locals>.wrapper(*args)>"
      ]
     },
     "execution_count": 119,
     "metadata": {},
     "output_type": "execute_result"
    }
   ],
   "source": [
    "callOptionType"
   ]
  },
  {
   "cell_type": "code",
   "execution_count": 120,
   "metadata": {},
   "outputs": [
    {
     "data": {
      "text/plain": [
       "'wrapper'"
      ]
     },
     "execution_count": 120,
     "metadata": {},
     "output_type": "execute_result"
    }
   ],
   "source": [
    "callOptionType.__name__"
   ]
  },
  {
   "cell_type": "code",
   "execution_count": 121,
   "metadata": {},
   "outputs": [
    {
     "name": "stdout",
     "output_type": "stream",
     "text": [
      "Help on function wrapper in module __main__:\n",
      "\n",
      "wrapper(*args)\n",
      "\n"
     ]
    }
   ],
   "source": [
    "help(callOptionType)"
   ]
  },
  {
   "cell_type": "code",
   "execution_count": 122,
   "metadata": {},
   "outputs": [
    {
     "name": "stdout",
     "output_type": "stream",
     "text": [
      "***Something to do before the function is called***\n",
      "The Call option is in the money\n",
      "***Something to do after the function is called***\n",
      "The Call option is in the money\n"
     ]
    },
    {
     "data": {
      "text/plain": [
       "10.0"
      ]
     },
     "execution_count": 122,
     "metadata": {},
     "output_type": "execute_result"
    }
   ],
   "source": [
    "import functools\n",
    "def decor(f):\n",
    "    @functools.wraps(f)\n",
    "    def wrapper(*args):\n",
    "        print(\"***Something to do before the function is called***\")\n",
    "        f(*args)\n",
    "        print(\"***Something to do after the function is called***\")\n",
    "        return f(*args)\n",
    "    return wrapper\n",
    "\n",
    "@decor\n",
    "def callOptionType(S, K):\n",
    "    if S<K:\n",
    "        msg = \"The Call option is out of the money\"\n",
    "    elif S>K:\n",
    "        msg = \"The Call option is in the money\"\n",
    "    else:\n",
    "        msg = \"The Call option is at the money\"\n",
    "    print(msg)\n",
    "    payoff = np.maximum(S-K, 0.)\n",
    "    return payoff\n",
    "        \n",
    "callOptionType(100, 90)"
   ]
  },
  {
   "cell_type": "code",
   "execution_count": 123,
   "metadata": {},
   "outputs": [
    {
     "data": {
      "text/plain": [
       "<function __main__.callOptionType(S, K)>"
      ]
     },
     "execution_count": 123,
     "metadata": {},
     "output_type": "execute_result"
    }
   ],
   "source": [
    "callOptionType"
   ]
  },
  {
   "cell_type": "code",
   "execution_count": 124,
   "metadata": {},
   "outputs": [
    {
     "data": {
      "text/plain": [
       "'callOptionType'"
      ]
     },
     "execution_count": 124,
     "metadata": {},
     "output_type": "execute_result"
    }
   ],
   "source": [
    "callOptionType.__name__"
   ]
  },
  {
   "cell_type": "code",
   "execution_count": 125,
   "metadata": {},
   "outputs": [
    {
     "name": "stdout",
     "output_type": "stream",
     "text": [
      "Help on function callOptionType in module __main__:\n",
      "\n",
      "callOptionType(S, K)\n",
      "\n"
     ]
    }
   ],
   "source": [
    "help(callOptionType)"
   ]
  },
  {
   "cell_type": "markdown",
   "metadata": {},
   "source": [
    "# Conclusion"
   ]
  },
  {
   "cell_type": "markdown",
   "metadata": {},
   "source": [
    "Functional Programming can be very useful, but Python is not a pure FP programming language (like Haskell). It is in fact a multi-paradigm language, and FP should be used with parsimony, not religiously."
   ]
  }
 ],
 "metadata": {
  "kernelspec": {
   "display_name": "Python 3 (ipykernel)",
   "language": "python",
   "name": "python3"
  },
  "language_info": {
   "codemirror_mode": {
    "name": "ipython",
    "version": 3
   },
   "file_extension": ".py",
   "mimetype": "text/x-python",
   "name": "python",
   "nbconvert_exporter": "python",
   "pygments_lexer": "ipython3",
   "version": "3.9.5"
  },
  "latex_envs": {
   "LaTeX_envs_menu_present": true,
   "autoclose": false,
   "autocomplete": true,
   "bibliofile": "biblio.bib",
   "cite_by": "apalike",
   "current_citInitial": 1,
   "eqLabelWithNumbers": true,
   "eqNumInitial": 1,
   "hotkeys": {
    "equation": "Ctrl-E",
    "itemize": "Ctrl-I"
   },
   "labels_anchors": false,
   "latex_user_defs": false,
   "report_style_numbering": false,
   "user_envs_cfg": false
  },
  "toc": {
   "base_numbering": 1,
   "nav_menu": {
    "height": "358px",
    "width": "666px"
   },
   "number_sections": true,
   "sideBar": true,
   "skip_h1_title": false,
   "title_cell": "Table of Contents",
   "title_sidebar": "Contents",
   "toc_cell": false,
   "toc_position": {},
   "toc_section_display": true,
   "toc_window_display": false
  }
 },
 "nbformat": 4,
 "nbformat_minor": 4
}
